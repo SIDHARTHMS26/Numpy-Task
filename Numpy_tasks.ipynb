{
  "cells": [
    {
      "cell_type": "markdown",
      "metadata": {
        "id": "Nrv_3VM428Ab"
      },
      "source": [
        "# Numpy\n",
        "\n"
      ]
    },
    {
      "cell_type": "markdown",
      "metadata": {
        "id": "2EkkL1zh28Ae"
      },
      "source": [
        "#### 1. Import the numpy package under the name `np` (★☆☆) \n",
        "(**hint**: import … as …)"
      ]
    },
    {
      "cell_type": "code",
      "execution_count": null,
      "metadata": {
        "collapsed": true,
        "id": "f0s7vo9T28Af"
      },
      "outputs": [],
      "source": [
        "import numpy as np"
      ]
    },
    {
      "cell_type": "markdown",
      "metadata": {
        "id": "GD9f9ijL28Ag"
      },
      "source": [
        "#### 2. Print the numpy version and the configuration (★☆☆) \n",
        "(**hint**: np.\\_\\_version\\_\\_, np.show\\_config)"
      ]
    },
    {
      "cell_type": "markdown",
      "metadata": {
        "id": "b8G17EBo28Ah"
      },
      "source": [
        "#### 3. Create a null vector of size 10 (★☆☆) \n",
        "(**hint**: np.zeros)"
      ]
    },
    {
      "cell_type": "code",
      "execution_count": null,
      "metadata": {
        "colab": {
          "base_uri": "https://localhost:8080/",
          "height": 35
        },
        "id": "Z722KSWm28Ah",
        "outputId": "11009d41-f276-47ad-d792-c011995b2384"
      },
      "outputs": [
        {
          "output_type": "execute_result",
          "data": {
            "application/vnd.google.colaboratory.intrinsic+json": {
              "type": "string"
            },
            "text/plain": [
              "'1.21.5'"
            ]
          },
          "metadata": {},
          "execution_count": 2
        }
      ],
      "source": [
        "np.__version__"
      ]
    },
    {
      "cell_type": "code",
      "execution_count": null,
      "metadata": {
        "colab": {
          "base_uri": "https://localhost:8080/"
        },
        "id": "op5JlBiF28Ai",
        "outputId": "2ee2c008-3b34-427a-d74e-f2f2195a27fd"
      },
      "outputs": [
        {
          "output_type": "execute_result",
          "data": {
            "text/plain": [
              "<function numpy.__config__.show>"
            ]
          },
          "metadata": {},
          "execution_count": 3
        }
      ],
      "source": [
        "np.show_config"
      ]
    },
    {
      "cell_type": "markdown",
      "metadata": {
        "id": "zXoY7HjM28Ai"
      },
      "source": [
        "#### 4.  How to find the memory size of any array (★☆☆) \n",
        "(**hint**: size, itemsize)"
      ]
    },
    {
      "cell_type": "code",
      "execution_count": null,
      "metadata": {
        "colab": {
          "base_uri": "https://localhost:8080/"
        },
        "id": "X02OoW3E28Aj",
        "outputId": "2582faa4-52f1-44bb-ccda-9d10e7c9962d"
      },
      "outputs": [
        {
          "output_type": "execute_result",
          "data": {
            "text/plain": [
              "4"
            ]
          },
          "metadata": {},
          "execution_count": 4
        }
      ],
      "source": [
        "a=np.array([1,2,3,4])\n",
        "np.size(a)"
      ]
    },
    {
      "cell_type": "markdown",
      "metadata": {
        "id": "1Zlb3rxj28Aj"
      },
      "source": [
        "#### 5.  How to get the documentation of the numpy add function from the command line? (★☆☆) \n",
        "(**hint**: np.info)"
      ]
    },
    {
      "cell_type": "code",
      "execution_count": null,
      "metadata": {
        "collapsed": true,
        "id": "WS4MBIA228Ak"
      },
      "outputs": [],
      "source": [
        "np.info(np.add)"
      ]
    },
    {
      "cell_type": "markdown",
      "metadata": {
        "id": "8xuHvBa028Ak"
      },
      "source": [
        "#### 6.  Create a null vector of size 10 but the fifth value which is 1 (★☆☆) \n",
        "(**hint**: array\\[4\\])"
      ]
    },
    {
      "cell_type": "code",
      "execution_count": null,
      "metadata": {
        "id": "T4_gbdWZ28Ak"
      },
      "outputs": [],
      "source": [
        "x=np.zeros(10)\n",
        "x[4]=1"
      ]
    },
    {
      "cell_type": "markdown",
      "metadata": {
        "id": "2RSHOahM28Al"
      },
      "source": [
        "#### 7.  Create a vector with values ranging from 10 to 49 (★☆☆) \n",
        "(**hint**: np.arange)"
      ]
    },
    {
      "cell_type": "code",
      "execution_count": null,
      "metadata": {
        "colab": {
          "base_uri": "https://localhost:8080/"
        },
        "id": "0rl5GKmA28Al",
        "outputId": "f0d011da-a740-44b9-fcdb-7554ab213995"
      },
      "outputs": [
        {
          "output_type": "execute_result",
          "data": {
            "text/plain": [
              "array([10, 11, 12, 13, 14, 15, 16, 17, 18, 19, 20, 21, 22, 23, 24, 25, 26,\n",
              "       27, 28, 29, 30, 31, 32, 33, 34, 35, 36, 37, 38, 39, 40, 41, 42, 43,\n",
              "       44, 45, 46, 47, 48, 49])"
            ]
          },
          "metadata": {},
          "execution_count": 7
        }
      ],
      "source": [
        "b=np.arange(10,50)\n",
        "b"
      ]
    },
    {
      "cell_type": "markdown",
      "metadata": {
        "id": "aACbOSUT28Am"
      },
      "source": [
        "#### 8.  Reverse a vector (first element becomes last) (★☆☆) \n",
        "(**hint**: array\\[::-1\\])"
      ]
    },
    {
      "cell_type": "code",
      "execution_count": null,
      "metadata": {
        "colab": {
          "base_uri": "https://localhost:8080/"
        },
        "id": "aRkA7PZJ28Am",
        "outputId": "a6fa379e-cf4a-4dbf-924f-4165f34889b0"
      },
      "outputs": [
        {
          "output_type": "execute_result",
          "data": {
            "text/plain": [
              "array([49, 48, 47, 46, 45, 44, 43, 42, 41, 40, 39, 38, 37, 36, 35, 34, 33,\n",
              "       32, 31, 30, 29, 28, 27, 26, 25, 24, 23, 22, 21, 20, 19, 18, 17, 16,\n",
              "       15, 14, 13, 12, 11, 10])"
            ]
          },
          "metadata": {},
          "execution_count": 8
        }
      ],
      "source": [
        "b[::-1]"
      ]
    },
    {
      "cell_type": "markdown",
      "metadata": {
        "id": "V-DwYGbx28Am"
      },
      "source": [
        "#### 9.  Create a 3x3 matrix with values ranging from 0 to 8 (★☆☆) \n",
        "(**hint**: reshape)"
      ]
    },
    {
      "cell_type": "code",
      "execution_count": null,
      "metadata": {
        "colab": {
          "base_uri": "https://localhost:8080/"
        },
        "id": "MaVL7s0M28Am",
        "outputId": "4018b4e9-7e64-48f6-ba34-d8db9b8d6d06"
      },
      "outputs": [
        {
          "output_type": "execute_result",
          "data": {
            "text/plain": [
              "array([[0, 1, 2],\n",
              "       [3, 4, 5],\n",
              "       [6, 7, 8]])"
            ]
          },
          "metadata": {},
          "execution_count": 9
        }
      ],
      "source": [
        "x=np.arange(0,9)\n",
        "x.reshape(3,3)"
      ]
    },
    {
      "cell_type": "markdown",
      "metadata": {
        "id": "W6EWFKu028An"
      },
      "source": [
        "#### 10. Find indices of non-zero elements from \\[1,2,0,0,4,0\\] (★☆☆) \n",
        "(**hint**: np.nonzero)"
      ]
    },
    {
      "cell_type": "code",
      "execution_count": null,
      "metadata": {
        "colab": {
          "base_uri": "https://localhost:8080/"
        },
        "id": "qyJ-XeUy28An",
        "outputId": "f567a94e-5b18-4a09-9ffc-7d3088d48bbf"
      },
      "outputs": [
        {
          "output_type": "execute_result",
          "data": {
            "text/plain": [
              "(array([0, 1, 4]),)"
            ]
          },
          "metadata": {},
          "execution_count": 10
        }
      ],
      "source": [
        "x=np.array([1,2,0,0,4,0])\n",
        "np.nonzero(x)"
      ]
    },
    {
      "cell_type": "markdown",
      "metadata": {
        "id": "mU8tb6kY28An"
      },
      "source": [
        "#### 11. Create a 3x3 identity matrix (★☆☆) \n",
        "(**hint**: np.eye)"
      ]
    },
    {
      "cell_type": "code",
      "execution_count": null,
      "metadata": {
        "colab": {
          "base_uri": "https://localhost:8080/"
        },
        "id": "AkDpgt_p28An",
        "outputId": "756de008-33c2-4a94-d414-3f655dcc6e12"
      },
      "outputs": [
        {
          "output_type": "execute_result",
          "data": {
            "text/plain": [
              "array([[1., 0., 0.],\n",
              "       [0., 1., 0.],\n",
              "       [0., 0., 1.]])"
            ]
          },
          "metadata": {},
          "execution_count": 11
        }
      ],
      "source": [
        "np.eye(3)"
      ]
    },
    {
      "cell_type": "markdown",
      "metadata": {
        "id": "6KYf11Kf28An"
      },
      "source": [
        "#### 12. Create a 3x3x3 array with random values (★☆☆) \n",
        "(**hint**: np.random.random)"
      ]
    },
    {
      "cell_type": "code",
      "execution_count": null,
      "metadata": {
        "collapsed": true,
        "colab": {
          "base_uri": "https://localhost:8080/"
        },
        "id": "SBhci1Pb28Ao",
        "outputId": "a5a2b63b-12c1-4828-db5c-6439648f6dc3"
      },
      "outputs": [
        {
          "output_type": "execute_result",
          "data": {
            "text/plain": [
              "array([[[0.19919264, 0.06393092, 0.68210697],\n",
              "        [0.28065811, 0.15064288, 0.09854333],\n",
              "        [0.53848128, 0.96058448, 0.43714811]],\n",
              "\n",
              "       [[0.66014122, 0.58547131, 0.73920828],\n",
              "        [0.23697517, 0.98760009, 0.50100377],\n",
              "        [0.58563221, 0.53621546, 0.21723457]],\n",
              "\n",
              "       [[0.76800725, 0.14966371, 0.32481123],\n",
              "        [0.89798351, 0.6185768 , 0.29575454],\n",
              "        [0.96566458, 0.13469421, 0.22931755]]])"
            ]
          },
          "metadata": {},
          "execution_count": 12
        }
      ],
      "source": [
        "np.random.random((3,3,3))"
      ]
    },
    {
      "cell_type": "markdown",
      "metadata": {
        "id": "Kze7UEXu28Ao"
      },
      "source": [
        "#### 13. Create a 10x10 array with random values and find the minimum and maximum values (★☆☆) \n",
        "(**hint**: min, max)"
      ]
    },
    {
      "cell_type": "code",
      "execution_count": null,
      "metadata": {
        "colab": {
          "base_uri": "https://localhost:8080/"
        },
        "id": "MkC0LgCS28Ao",
        "outputId": "e0a5e6a6-9724-4077-c003-f7979bb20d3c"
      },
      "outputs": [
        {
          "output_type": "stream",
          "name": "stdout",
          "text": [
            "0.00919504903778845 0.9906757767542835\n"
          ]
        }
      ],
      "source": [
        "x=np.random.random((10,10))\n",
        "print(x.min(),x.max())"
      ]
    },
    {
      "cell_type": "markdown",
      "metadata": {
        "id": "LjUViS8128Ao"
      },
      "source": [
        "#### 14. Create a random vector of size 30 and find the mean value (★☆☆) \n",
        "(**hint**: mean)"
      ]
    },
    {
      "cell_type": "code",
      "execution_count": null,
      "metadata": {
        "colab": {
          "base_uri": "https://localhost:8080/"
        },
        "id": "Tn2d-coN28Ao",
        "outputId": "5322e662-b5dc-4b4b-b19f-cc45dc1903c7"
      },
      "outputs": [
        {
          "output_type": "execute_result",
          "data": {
            "text/plain": [
              "0.6219300320810064"
            ]
          },
          "metadata": {},
          "execution_count": 14
        }
      ],
      "source": [
        "x=np.random.random(30)\n",
        "x.mean()"
      ]
    },
    {
      "cell_type": "markdown",
      "metadata": {
        "id": "-wVKv3Sx28Ao"
      },
      "source": [
        "#### 15. Create a 2d array with 1 on the border and 0 inside (★☆☆) \n",
        "(**hint**: array\\[1:-1, 1:-1\\])"
      ]
    },
    {
      "cell_type": "code",
      "execution_count": null,
      "metadata": {
        "colab": {
          "base_uri": "https://localhost:8080/"
        },
        "id": "u8HigKMR28Ap",
        "outputId": "4eaec616-ebc8-48a9-aba2-34c41ff2cef2"
      },
      "outputs": [
        {
          "output_type": "execute_result",
          "data": {
            "text/plain": [
              "array([[1., 1., 1., 1.],\n",
              "       [1., 0., 0., 1.],\n",
              "       [1., 0., 0., 1.],\n",
              "       [1., 1., 1., 1.]])"
            ]
          },
          "metadata": {},
          "execution_count": 15
        }
      ],
      "source": [
        "x=np.ones((4,4))\n",
        "x[1:-1,1:-1]=0\n",
        "x"
      ]
    },
    {
      "cell_type": "markdown",
      "metadata": {
        "id": "3hEL3kml28Ap"
      },
      "source": [
        "#### 16. How to add a border (filled with 0's) around an existing array? (★☆☆) \n",
        "(**hint**: np.pad)"
      ]
    },
    {
      "cell_type": "code",
      "execution_count": null,
      "metadata": {
        "colab": {
          "base_uri": "https://localhost:8080/"
        },
        "id": "hPGQ_glz28Ap",
        "outputId": "2508aadf-c09c-415a-c47e-f44eb6b58171"
      },
      "outputs": [
        {
          "output_type": "execute_result",
          "data": {
            "text/plain": [
              "array([[0., 0., 0., 0., 0., 0.],\n",
              "       [0., 1., 1., 1., 1., 0.],\n",
              "       [0., 1., 0., 0., 1., 0.],\n",
              "       [0., 1., 0., 0., 1., 0.],\n",
              "       [0., 1., 1., 1., 1., 0.],\n",
              "       [0., 0., 0., 0., 0., 0.]])"
            ]
          },
          "metadata": {},
          "execution_count": 16
        }
      ],
      "source": [
        "x=np.pad(x,pad_width=1,constant_values=0)\n",
        "x"
      ]
    },
    {
      "cell_type": "markdown",
      "metadata": {
        "id": "KqPU91k828Ap"
      },
      "source": [
        "#### 17. What is the result of the following expression? (★☆☆) \n",
        "(**hint**: NaN = not a number, inf = infinity)"
      ]
    },
    {
      "cell_type": "markdown",
      "metadata": {
        "id": "X1VuwnFy28Ap"
      },
      "source": [
        "```python\n",
        "0 * np.nan\n",
        "np.nan == np.nan\n",
        "np.inf > np.nan\n",
        "np.nan - np.nan\n",
        "0.3 == 3 * 0.1\n",
        "```"
      ]
    },
    {
      "cell_type": "code",
      "execution_count": null,
      "metadata": {
        "colab": {
          "base_uri": "https://localhost:8080/"
        },
        "id": "RI6M651828Aq",
        "outputId": "3f35eed1-b0c4-46fd-8af4-ff00c9e1fa01"
      },
      "outputs": [
        {
          "output_type": "execute_result",
          "data": {
            "text/plain": [
              "False"
            ]
          },
          "metadata": {},
          "execution_count": 17
        }
      ],
      "source": [
        "0 * np.nan\n",
        "np.nan == np.nan\n",
        "np.inf > np.nan\n",
        "np.nan - np.nan\n",
        "0.3 == 3 * 0.1"
      ]
    },
    {
      "cell_type": "markdown",
      "metadata": {
        "id": "zlhmSy6r28Aq"
      },
      "source": [
        "#### 18. Create a 5x5 matrix with values 1,2,3,4 just below the diagonal (★☆☆) \n",
        "(**hint**: np.diag)"
      ]
    },
    {
      "cell_type": "code",
      "execution_count": null,
      "metadata": {
        "colab": {
          "base_uri": "https://localhost:8080/"
        },
        "id": "NZgqdCLU28Aq",
        "outputId": "8045ba72-889b-4518-c936-dbe9bb30d8f6"
      },
      "outputs": [
        {
          "output_type": "execute_result",
          "data": {
            "text/plain": [
              "array([[1, 0, 0, 0, 0],\n",
              "       [0, 2, 0, 0, 0],\n",
              "       [0, 0, 3, 0, 0],\n",
              "       [0, 0, 0, 4, 0],\n",
              "       [0, 0, 0, 0, 5]])"
            ]
          },
          "metadata": {},
          "execution_count": 18
        }
      ],
      "source": [
        "np.diag([1,2,3,4,5])"
      ]
    },
    {
      "cell_type": "markdown",
      "metadata": {
        "id": "kQF2mwF428Ar"
      },
      "source": [
        "#### 19. Create a 8x8 matrix and fill it with a checkerboard pattern (★☆☆) \n",
        "(**hint**: array\\[::2\\])"
      ]
    },
    {
      "cell_type": "code",
      "execution_count": null,
      "metadata": {
        "colab": {
          "base_uri": "https://localhost:8080/"
        },
        "id": "IPap5Q4w28Ar",
        "outputId": "141c654f-93c7-4157-8ed8-5d24003c2791"
      },
      "outputs": [
        {
          "output_type": "execute_result",
          "data": {
            "text/plain": [
              "array([[0., 1., 0., 1., 0., 1., 0., 1.],\n",
              "       [1., 0., 1., 0., 1., 0., 1., 0.],\n",
              "       [0., 1., 0., 1., 0., 1., 0., 1.],\n",
              "       [1., 0., 1., 0., 1., 0., 1., 0.],\n",
              "       [0., 1., 0., 1., 0., 1., 0., 1.],\n",
              "       [1., 0., 1., 0., 1., 0., 1., 0.],\n",
              "       [0., 1., 0., 1., 0., 1., 0., 1.],\n",
              "       [1., 0., 1., 0., 1., 0., 1., 0.]])"
            ]
          },
          "metadata": {},
          "execution_count": 19
        }
      ],
      "source": [
        "x = np.zeros((8,8))\n",
        "x[1::2,::2] = 1\n",
        "x[::2,1::2] = 1\n",
        "x"
      ]
    },
    {
      "cell_type": "markdown",
      "metadata": {
        "id": "Zsq3iUs228Ar"
      },
      "source": [
        "#### 20. Consider a (6,7,8) shape array, what is the index (x,y,z) of the 100th element? \n",
        "(**hint**: np.unravel_index)"
      ]
    },
    {
      "cell_type": "code",
      "execution_count": null,
      "metadata": {
        "colab": {
          "base_uri": "https://localhost:8080/"
        },
        "id": "HkBpSh2D28Ar",
        "outputId": "5c162296-6f25-48b7-9882-7deb9adbe88d"
      },
      "outputs": [
        {
          "output_type": "execute_result",
          "data": {
            "text/plain": [
              "(1, 5, 4)"
            ]
          },
          "metadata": {},
          "execution_count": 20
        }
      ],
      "source": [
        "np.unravel_index(100,(6,7,8))"
      ]
    },
    {
      "cell_type": "markdown",
      "metadata": {
        "id": "sLSBMLZN28As"
      },
      "source": [
        "#### 21. Create a checkerboard 8x8 matrix using the tile function (★☆☆) \n",
        "(**hint**: np.tile)"
      ]
    },
    {
      "cell_type": "code",
      "execution_count": null,
      "metadata": {
        "colab": {
          "base_uri": "https://localhost:8080/"
        },
        "id": "ajpao_KY28As",
        "outputId": "76a7ce26-d859-4a27-c114-d43177c7c1d6"
      },
      "outputs": [
        {
          "output_type": "execute_result",
          "data": {
            "text/plain": [
              "array([[0, 1, 0, 1, 0, 1, 0, 1],\n",
              "       [1, 0, 1, 0, 1, 0, 1, 0],\n",
              "       [0, 1, 0, 1, 0, 1, 0, 1],\n",
              "       [1, 0, 1, 0, 1, 0, 1, 0],\n",
              "       [0, 1, 0, 1, 0, 1, 0, 1],\n",
              "       [1, 0, 1, 0, 1, 0, 1, 0],\n",
              "       [0, 1, 0, 1, 0, 1, 0, 1],\n",
              "       [1, 0, 1, 0, 1, 0, 1, 0]])"
            ]
          },
          "metadata": {},
          "execution_count": 21
        }
      ],
      "source": [
        "x= np.array([[ 0, 1], [ 1, 0]])\n",
        "np.tile(x,( 8//2, 8//2))"
      ]
    },
    {
      "cell_type": "markdown",
      "metadata": {
        "id": "10Sw_Zgh28As"
      },
      "source": [
        "#### 22. Normalize a 5x5 random matrix (★☆☆) \n",
        "(**hint**: (x - min) / (max - min))"
      ]
    },
    {
      "cell_type": "code",
      "execution_count": null,
      "metadata": {
        "colab": {
          "base_uri": "https://localhost:8080/"
        },
        "id": "jFdOmjpg28As",
        "outputId": "5a1e12cd-a1c9-4492-8b95-c7438874a77e"
      },
      "outputs": [
        {
          "output_type": "execute_result",
          "data": {
            "text/plain": [
              "array([[0.06739361, 0.19311599, 0.91873636, 0.50492046, 0.53763838],\n",
              "       [0.54792947, 0.51020567, 1.        , 0.69504692, 0.09106396],\n",
              "       [0.91823815, 0.00468316, 0.34212283, 0.47331421, 0.62596628],\n",
              "       [0.45548201, 0.79071274, 0.22983377, 0.87177652, 0.09188846],\n",
              "       [0.31967245, 0.28098636, 0.28133928, 0.61214474, 0.        ]])"
            ]
          },
          "metadata": {},
          "execution_count": 22
        }
      ],
      "source": [
        "x=np.random.random((5,5))\n",
        "xmin=x.min()\n",
        "xmax=x.max()\n",
        "x=(x-xmin)/(xmax-xmin)\n",
        "x"
      ]
    },
    {
      "cell_type": "markdown",
      "metadata": {
        "id": "Ik7ScUlg28As"
      },
      "source": [
        "#### 23. Create a custom dtype that describes a color as four unsigned bytes (RGBA) (★☆☆) \n",
        "(**hint**: np.dtype)"
      ]
    },
    {
      "cell_type": "code",
      "execution_count": null,
      "metadata": {
        "collapsed": true,
        "colab": {
          "base_uri": "https://localhost:8080/"
        },
        "id": "QslsBB2z28At",
        "outputId": "ad5d06d3-6d26-4e94-8efd-c0de4f88e031"
      },
      "outputs": [
        {
          "output_type": "stream",
          "name": "stderr",
          "text": [
            "/usr/local/lib/python3.7/dist-packages/ipykernel_launcher.py:4: FutureWarning: Passing (type, 1) or '1type' as a synonym of type is deprecated; in a future version of numpy, it will be understood as (type, (1,)) / '(1,)type'.\n",
            "  after removing the cwd from sys.path.\n"
          ]
        },
        {
          "output_type": "execute_result",
          "data": {
            "text/plain": [
              "dtype([('r', 'u1'), ('g', 'u1'), ('b', 'u1'), ('a', 'u1')])"
            ]
          },
          "metadata": {},
          "execution_count": 23
        }
      ],
      "source": [
        "np.dtype([(\"r\", np.ubyte, 1),\n",
        "          (\"g\", np.ubyte, 1),\n",
        "          (\"b\", np.ubyte, 1),\n",
        "          (\"a\", np.ubyte, 1)])"
      ]
    },
    {
      "cell_type": "markdown",
      "metadata": {
        "id": "6PyDnjCX28At"
      },
      "source": [
        "#### 24. Multiply a 5x3 matrix by a 3x2 matrix (real matrix product) (★☆☆) \n",
        "(**hint**: np.dot | @)"
      ]
    },
    {
      "cell_type": "code",
      "execution_count": null,
      "metadata": {
        "colab": {
          "base_uri": "https://localhost:8080/"
        },
        "id": "Lu_9ZU4Q28At",
        "outputId": "a7d14f10-90f5-4de6-f341-6a1ab72a428b"
      },
      "outputs": [
        {
          "output_type": "execute_result",
          "data": {
            "text/plain": [
              "array([[ 10,  13],\n",
              "       [ 28,  40],\n",
              "       [ 46,  67],\n",
              "       [ 64,  94],\n",
              "       [ 82, 121]])"
            ]
          },
          "metadata": {},
          "execution_count": 24
        }
      ],
      "source": [
        "x=np.arange(15).reshape((5,3))\n",
        "y=np.arange(6).reshape((3,2))\n",
        "np.dot(x,y)"
      ]
    },
    {
      "cell_type": "markdown",
      "metadata": {
        "id": "yY2eAf7H28At"
      },
      "source": [
        "#### 25. Given a 1D array, negate all elements which are between 3 and 8, in place. (★☆☆) \n",
        "(**hint**: >, <=)"
      ]
    },
    {
      "cell_type": "code",
      "execution_count": null,
      "metadata": {
        "id": "IYm96K3928At"
      },
      "outputs": [],
      "source": [
        "x = np.arange(11)\n",
        "x[(x >= 3) & (x <= 8)] = -1"
      ]
    },
    {
      "cell_type": "markdown",
      "metadata": {
        "id": "OXTHAvQz28At"
      },
      "source": [
        "#### 26. What is the output of the following script? (★☆☆) \n",
        "(**hint**: np.sum)"
      ]
    },
    {
      "cell_type": "markdown",
      "metadata": {
        "id": "9nr_Mtat28Au"
      },
      "source": [
        "```python\n",
        "# Author: Jake VanderPlas\n",
        "\n",
        "print(sum(range(5),-1))\n",
        "from numpy import *\n",
        "print(sum(range(5),-1))\n",
        "```"
      ]
    },
    {
      "cell_type": "code",
      "execution_count": null,
      "metadata": {
        "colab": {
          "base_uri": "https://localhost:8080/"
        },
        "id": "MU73eAAG28Au",
        "outputId": "6055c0b4-7689-4031-a81d-913a2674395e"
      },
      "outputs": [
        {
          "output_type": "stream",
          "name": "stdout",
          "text": [
            "9\n",
            "10\n"
          ]
        }
      ],
      "source": [
        "print(sum(range(5),-1))\n",
        "from numpy import *\n",
        "print(sum(range(5),-1))"
      ]
    },
    {
      "cell_type": "markdown",
      "metadata": {
        "id": "jVGmC-1t28Au"
      },
      "source": [
        "#### 27. Consider an integer vector Z, which of these expressions are legal? (★☆☆)"
      ]
    },
    {
      "cell_type": "markdown",
      "metadata": {
        "id": "-LW386Zc28Au"
      },
      "source": [
        "```python\n",
        "Z**Z\n",
        "2 << Z >> 2\n",
        "Z <- Z\n",
        "1j*Z\n",
        "Z/1/1\n",
        "Z<Z>Z\n",
        "```"
      ]
    },
    {
      "cell_type": "code",
      "execution_count": null,
      "metadata": {
        "colab": {
          "base_uri": "https://localhost:8080/"
        },
        "id": "PJ-krdbs28Au",
        "outputId": "c0a91038-e878-45e7-ab22-381f9ece9250"
      },
      "outputs": [
        {
          "output_type": "execute_result",
          "data": {
            "text/plain": [
              "array([0., 1., 2.])"
            ]
          },
          "metadata": {},
          "execution_count": 29
        }
      ],
      "source": [
        "Z=np.arange(3)\n",
        "Z**Z #[1, 1, 4]\n",
        "2 << Z >> 2 #[0,1,2]\n",
        "Z <- Z #[False, False, False] \n",
        "1j*Z #[0 + 0.j, 0 + 1.j, 0 + 2.j]\n",
        "Z/1/1 #[0, 1, 2]\n",
        "Z<Z>Z #Error"
      ]
    },
    {
      "cell_type": "markdown",
      "metadata": {
        "id": "OjKIWTQs28Au"
      },
      "source": [
        "#### 28. What are the result of the following expressions?"
      ]
    },
    {
      "cell_type": "markdown",
      "metadata": {
        "id": "J4p_U6nD28Av"
      },
      "source": [
        "```python\n",
        "np.array(0) / np.array(0)\n",
        "np.array(0) // np.array(0)\n",
        "np.array([np.nan]).astype(int).astype(float)\n",
        "```"
      ]
    },
    {
      "cell_type": "code",
      "execution_count": null,
      "metadata": {
        "colab": {
          "base_uri": "https://localhost:8080/"
        },
        "id": "yAGZ__TZ28Av",
        "outputId": "c17d5686-7b57-47eb-c82f-71fd42c8908d"
      },
      "outputs": [
        {
          "output_type": "stream",
          "name": "stderr",
          "text": [
            "/usr/local/lib/python3.7/dist-packages/ipykernel_launcher.py:2: RuntimeWarning: invalid value encountered in true_divide\n",
            "  \n",
            "/usr/local/lib/python3.7/dist-packages/ipykernel_launcher.py:3: RuntimeWarning: divide by zero encountered in floor_divide\n",
            "  This is separate from the ipykernel package so we can avoid doing imports until\n"
          ]
        },
        {
          "output_type": "execute_result",
          "data": {
            "text/plain": [
              "array([-9.22337204e+18])"
            ]
          },
          "metadata": {},
          "execution_count": 5
        }
      ],
      "source": [
        "import numpy as np\n",
        "np.array(0) / np.array(0) #nan\n",
        "np.array(0) // np.array(0) #0\n",
        "np.array([np.nan]).astype(int).astype(float) #[-9.22337204e+18]"
      ]
    },
    {
      "cell_type": "markdown",
      "metadata": {
        "id": "ZgU5UMdZ28Av"
      },
      "source": [
        "#### 29. How to round away from zero a float array ? (★☆☆) \n",
        "(**hint**: np.uniform, np.copysign, np.ceil, np.abs)"
      ]
    },
    {
      "cell_type": "code",
      "execution_count": null,
      "metadata": {
        "colab": {
          "base_uri": "https://localhost:8080/"
        },
        "id": "zyCUEmc-28Av",
        "outputId": "62c1b9b5-82e9-442b-8a75-ac8283191e20"
      },
      "outputs": [
        {
          "output_type": "execute_result",
          "data": {
            "text/plain": [
              "array([  2.,   4.,   3.,   1.,   7.,  10.,  -4.,  -7.,  -5., -10.])"
            ]
          },
          "metadata": {},
          "execution_count": 6
        }
      ],
      "source": [
        "x = np.random.uniform(-10, +10, 10)\n",
        "np.copysign(np.ceil(np.abs(x)), x)"
      ]
    },
    {
      "cell_type": "markdown",
      "metadata": {
        "id": "zPEDNuCu28Av"
      },
      "source": [
        "#### 30. How to find common values between two arrays? (★☆☆) \n",
        "(**hint**: np.intersect1d)"
      ]
    },
    {
      "cell_type": "code",
      "execution_count": null,
      "metadata": {
        "colab": {
          "base_uri": "https://localhost:8080/"
        },
        "id": "2YQjEVBE28Av",
        "outputId": "b7303d3b-ee1f-44b1-d98c-72024a620a7f"
      },
      "outputs": [
        {
          "output_type": "execute_result",
          "data": {
            "text/plain": [
              "array([ 5,  6,  7,  8,  9, 10])"
            ]
          },
          "metadata": {},
          "execution_count": 8
        }
      ],
      "source": [
        "x = np.arange(0, 11)\n",
        "y = np.arange(5, 15)\n",
        "np.intersect1d(x, y)"
      ]
    },
    {
      "cell_type": "markdown",
      "metadata": {
        "id": "kJzXBVm928Av"
      },
      "source": [
        "#### 31. How to ignore all numpy warnings (not recommended)? (★☆☆) \n",
        "(**hint**: np.seterr, np.errstate)"
      ]
    },
    {
      "cell_type": "code",
      "execution_count": null,
      "metadata": {
        "colab": {
          "base_uri": "https://localhost:8080/"
        },
        "id": "D8REE76v28Aw",
        "outputId": "fa1f0f94-6f81-4720-934b-e66d743ccf3b"
      },
      "outputs": [
        {
          "output_type": "execute_result",
          "data": {
            "text/plain": [
              "array([inf])"
            ]
          },
          "metadata": {},
          "execution_count": 10
        }
      ],
      "source": [
        "defaults = np.seterr(all=\"ignore\")\n",
        "x= np.ones(1) / 0\n",
        "x"
      ]
    },
    {
      "cell_type": "markdown",
      "metadata": {
        "id": "V0POxkuE28Aw"
      },
      "source": [
        "#### 32. Is the following expressions true? (★☆☆) \n",
        "(**hint**: imaginary number)"
      ]
    },
    {
      "cell_type": "markdown",
      "metadata": {
        "id": "rHisL0Hj28Aw"
      },
      "source": [
        "```python\n",
        "np.sqrt(-1) == np.emath.sqrt(-1)\n",
        "```"
      ]
    },
    {
      "cell_type": "code",
      "execution_count": null,
      "metadata": {
        "colab": {
          "base_uri": "https://localhost:8080/"
        },
        "id": "DGS2B9FM28Aw",
        "outputId": "5438b4f9-efd9-4f59-fd9e-b819e49ea645"
      },
      "outputs": [
        {
          "output_type": "execute_result",
          "data": {
            "text/plain": [
              "False"
            ]
          },
          "metadata": {},
          "execution_count": 11
        }
      ],
      "source": [
        "np.sqrt(-1) == np.emath.sqrt(-1) "
      ]
    },
    {
      "cell_type": "markdown",
      "metadata": {
        "id": "YvP0vHB428Aw"
      },
      "source": [
        "#### 33. How to get the dates of yesterday, today and tomorrow? (★☆☆) \n",
        "(**hint**: np.datetime64, np.timedelta64)"
      ]
    },
    {
      "cell_type": "code",
      "execution_count": null,
      "metadata": {
        "collapsed": true,
        "colab": {
          "base_uri": "https://localhost:8080/"
        },
        "id": "Lgf6wSBH28Aw",
        "outputId": "d4aa3941-5479-4419-d87f-99eede2135cd"
      },
      "outputs": [
        {
          "output_type": "stream",
          "name": "stdout",
          "text": [
            "2022-02-22\n",
            "2022-02-23\n",
            "2022-02-24\n"
          ]
        }
      ],
      "source": [
        "yesterday= np.datetime64('today', 'D') - np.timedelta64(1, 'D')\n",
        "print(yesterday)\n",
        "today= np.datetime64('today', 'D')\n",
        "print(today)\n",
        "tomorrow= np.datetime64('today', 'D') + np.timedelta64(1, 'D')\n",
        "print(tomorrow)"
      ]
    },
    {
      "cell_type": "markdown",
      "metadata": {
        "id": "P0oRge7r28Aw"
      },
      "source": [
        "#### 34. How to get all the dates corresponding to the month of July 2016? (★★☆) \n",
        "(**hint**: np.arange(dtype=datetime64\\['D'\\]))"
      ]
    },
    {
      "cell_type": "code",
      "execution_count": null,
      "metadata": {
        "colab": {
          "base_uri": "https://localhost:8080/"
        },
        "id": "Gp0GW5zx28Ax",
        "outputId": "6e5e6ce7-3f24-4c3d-f8b7-77049639966f"
      },
      "outputs": [
        {
          "output_type": "execute_result",
          "data": {
            "text/plain": [
              "array(['2016-07-01', '2016-07-02', '2016-07-03', '2016-07-04',\n",
              "       '2016-07-05', '2016-07-06', '2016-07-07', '2016-07-08',\n",
              "       '2016-07-09', '2016-07-10', '2016-07-11', '2016-07-12',\n",
              "       '2016-07-13', '2016-07-14', '2016-07-15', '2016-07-16',\n",
              "       '2016-07-17', '2016-07-18', '2016-07-19', '2016-07-20',\n",
              "       '2016-07-21', '2016-07-22', '2016-07-23', '2016-07-24',\n",
              "       '2016-07-25', '2016-07-26', '2016-07-27', '2016-07-28',\n",
              "       '2016-07-29', '2016-07-30', '2016-07-31'], dtype='datetime64[D]')"
            ]
          },
          "metadata": {},
          "execution_count": 26
        }
      ],
      "source": [
        "x = np.arange('2016-07', '2016-08', dtype='datetime64[D]')\n",
        "x"
      ]
    },
    {
      "cell_type": "markdown",
      "metadata": {
        "id": "fpNelJZk28Ax"
      },
      "source": [
        "#### 35. How to compute ((A+B)\\*(-A/2)) in place (without copy)? (★★☆) \n",
        "(**hint**: np.add(out=), np.negative(out=), np.multiply(out=), np.divide(out=))"
      ]
    },
    {
      "cell_type": "code",
      "execution_count": null,
      "metadata": {
        "id": "rxICMMSt28Ax"
      },
      "outputs": [],
      "source": [
        ""
      ]
    },
    {
      "cell_type": "markdown",
      "metadata": {
        "id": "BDvlamMF28Ax"
      },
      "source": [
        "#### 36. Extract the integer part of a random array using 5 different methods (★★☆) \n",
        "(**hint**: %, np.floor, np.ceil, astype, np.trunc)"
      ]
    },
    {
      "cell_type": "code",
      "execution_count": null,
      "metadata": {
        "colab": {
          "base_uri": "https://localhost:8080/"
        },
        "id": "42MpOmfb28Ax",
        "outputId": "2524197c-a388-4907-9a0b-a7e38aa86458"
      },
      "outputs": [
        {
          "output_type": "execute_result",
          "data": {
            "text/plain": [
              "array([-9.,  2., -4., -5.,  6.,  7.,  0., -9.,  6., -8.])"
            ]
          },
          "metadata": {},
          "execution_count": 29
        }
      ],
      "source": [
        "x=np.random.uniform(-10,+10,10)\n",
        "x.astype(np.int32)\n",
        "np.trunc(x)"
      ]
    },
    {
      "cell_type": "markdown",
      "metadata": {
        "id": "2HrdgjfW28Ax"
      },
      "source": [
        "#### 37. Create a 5x5 matrix with row values ranging from 0 to 4 (★★☆) \n",
        "(**hint**: np.arange)"
      ]
    },
    {
      "cell_type": "code",
      "execution_count": null,
      "metadata": {
        "colab": {
          "base_uri": "https://localhost:8080/"
        },
        "id": "ZK-mvQ-Z28Ax",
        "outputId": "fc98bd64-4ef1-417a-b99a-d309e9560df9"
      },
      "outputs": [
        {
          "output_type": "execute_result",
          "data": {
            "text/plain": [
              "array([[0., 1., 2., 3., 4.],\n",
              "       [0., 1., 2., 3., 4.],\n",
              "       [0., 1., 2., 3., 4.],\n",
              "       [0., 1., 2., 3., 4.],\n",
              "       [0., 1., 2., 3., 4.]])"
            ]
          },
          "metadata": {},
          "execution_count": 30
        }
      ],
      "source": [
        "x=np.zeros((5,5))\n",
        "x+=np.arange(5)\n",
        "x"
      ]
    },
    {
      "cell_type": "markdown",
      "metadata": {
        "id": "tS4g-cro28Ax"
      },
      "source": [
        "#### 38. Consider a generator function that generates 10 integers and use it to build an array (★☆☆) \n",
        "(**hint**: np.fromiter)"
      ]
    },
    {
      "cell_type": "code",
      "execution_count": null,
      "metadata": {
        "colab": {
          "base_uri": "https://localhost:8080/"
        },
        "id": "t-nqZuLa28Ay",
        "outputId": "7cc5400d-7641-4478-af2f-27a542cf53a1"
      },
      "outputs": [
        {
          "output_type": "execute_result",
          "data": {
            "text/plain": [
              "array([0., 1., 2., 3., 4., 5., 6., 7., 8., 9.], dtype=float32)"
            ]
          },
          "metadata": {},
          "execution_count": 31
        }
      ],
      "source": [
        "def integer():\n",
        "    for i in range(10):\n",
        "        yield i\n",
        "np.fromiter(integer(), dtype=np.float32, count=-1)"
      ]
    },
    {
      "cell_type": "markdown",
      "metadata": {
        "id": "7EAo7OuM28Ay"
      },
      "source": [
        "#### 39. Create a vector of size 10 with values ranging from 0 to 1, both excluded (★★☆) \n",
        "(**hint**: np.linspace)"
      ]
    },
    {
      "cell_type": "code",
      "execution_count": null,
      "metadata": {
        "colab": {
          "base_uri": "https://localhost:8080/"
        },
        "id": "dsw3hbeF28Ay",
        "outputId": "0a1d50f9-171c-4d40-8051-a74dd6f1f9fc"
      },
      "outputs": [
        {
          "output_type": "execute_result",
          "data": {
            "text/plain": [
              "array([0. , 1.1, 2.2, 3.3, 4.4, 5.5, 6.6, 7.7, 8.8, 9.9])"
            ]
          },
          "metadata": {},
          "execution_count": 33
        }
      ],
      "source": [
        "np.linspace(start=0,stop=11,num=10,endpoint=False)"
      ]
    },
    {
      "cell_type": "markdown",
      "metadata": {
        "id": "GR5vJCdx28Ay"
      },
      "source": [
        "#### 40. Create a random vector of size 10 and sort it (★★☆) \n",
        "(**hint**: sort)"
      ]
    },
    {
      "cell_type": "code",
      "execution_count": null,
      "metadata": {
        "colab": {
          "base_uri": "https://localhost:8080/"
        },
        "id": "zwu3d9HC28Ay",
        "outputId": "e9d9474a-2a75-4864-eaf4-2c9b1eebdf66"
      },
      "outputs": [
        {
          "output_type": "stream",
          "name": "stdout",
          "text": [
            "None\n"
          ]
        }
      ],
      "source": [
        "x=np.random.random(10)\n",
        "print(x.sort())"
      ]
    },
    {
      "cell_type": "markdown",
      "metadata": {
        "id": "yNtPAKF628Ay"
      },
      "source": [
        "#### 41. How to sum a small array faster than np.sum? (★★☆) \n",
        "(**hint**: np.add.reduce)"
      ]
    },
    {
      "cell_type": "code",
      "execution_count": null,
      "metadata": {
        "colab": {
          "base_uri": "https://localhost:8080/"
        },
        "id": "-kobo_ME28Ay",
        "outputId": "848c733d-3932-4ff9-966e-e578c46bb44f"
      },
      "outputs": [
        {
          "output_type": "execute_result",
          "data": {
            "text/plain": [
              "45"
            ]
          },
          "metadata": {},
          "execution_count": 40
        }
      ],
      "source": [
        "x = np.arange(10)\n",
        "np.add.reduce(x)"
      ]
    },
    {
      "cell_type": "markdown",
      "metadata": {
        "id": "gY3AWLz028Az"
      },
      "source": [
        "#### 42. Consider two random array A and B, check if they are equal (★★☆) \n",
        "(**hint**: np.allclose, np.array\\_equal)"
      ]
    },
    {
      "cell_type": "code",
      "execution_count": null,
      "metadata": {
        "colab": {
          "base_uri": "https://localhost:8080/"
        },
        "id": "fR-FFMVW28Az",
        "outputId": "d72e6173-059d-4a93-8136-2a0b9fdb4e98"
      },
      "outputs": [
        {
          "output_type": "execute_result",
          "data": {
            "text/plain": [
              "True"
            ]
          },
          "metadata": {},
          "execution_count": 41
        }
      ],
      "source": [
        "A=np.arange(5)\n",
        "B=np.arange(5)\n",
        "np.array_equal(A,B)"
      ]
    },
    {
      "cell_type": "markdown",
      "metadata": {
        "id": "wvPUrTB628Az"
      },
      "source": [
        "#### 43. Make an array immutable (read-only) (★★☆) \n",
        "(**hint**: flags.writeable)"
      ]
    },
    {
      "cell_type": "code",
      "execution_count": null,
      "metadata": {
        "id": "JTDvx8nw28Az"
      },
      "outputs": [],
      "source": [
        "x=np.arange(10)\n",
        "x.flags.writeable=False"
      ]
    },
    {
      "cell_type": "markdown",
      "metadata": {
        "id": "1j3XfWia28Az"
      },
      "source": [
        "#### 44. Consider a random 10x2 matrix representing cartesian coordinates, convert them to polar coordinates (★★☆) \n",
        "(**hint**: np.sqrt, np.arctan2)"
      ]
    },
    {
      "cell_type": "code",
      "execution_count": null,
      "metadata": {
        "colab": {
          "base_uri": "https://localhost:8080/"
        },
        "id": "0U2T_ryV28Az",
        "outputId": "44507e04-1839-4709-f821-90a84ed255d8"
      },
      "outputs": [
        {
          "output_type": "stream",
          "name": "stdout",
          "text": [
            "[0.69253257 1.1418596  0.6495693  0.82696146 0.49980422 0.77082027\n",
            " 0.53237836 0.83863561 0.16293881 0.80451495]\n",
            "[1.35939325 0.56460781 1.39611079 0.27975426 0.9615538  0.88564918\n",
            " 1.09492907 1.22764493 0.05385242 1.10180877]\n"
          ]
        }
      ],
      "source": [
        "Z = np.random.random((10, 2))\n",
        "X, Y = Z[:, 0], Z[:, 1]\n",
        "R = np.sqrt(X ** 2 + Y ** 2)\n",
        "T = np.arctan2(Y, X)\n",
        "print(R)\n",
        "print(T)"
      ]
    },
    {
      "cell_type": "markdown",
      "metadata": {
        "id": "oCcOXrEN28Az"
      },
      "source": [
        "#### 45. Create random vector of size 10 and replace the maximum value by 0 (★★☆) \n",
        "(**hint**: argmax)"
      ]
    },
    {
      "cell_type": "code",
      "execution_count": null,
      "metadata": {
        "colab": {
          "base_uri": "https://localhost:8080/"
        },
        "id": "hgymZCBu28Az",
        "outputId": "ba09afa5-74a9-422d-ab4e-a938af0b0403"
      },
      "outputs": [
        {
          "output_type": "execute_result",
          "data": {
            "text/plain": [
              "0.8791601124820915"
            ]
          },
          "metadata": {},
          "execution_count": 72
        }
      ],
      "source": [
        "x = np.random.random(10)\n",
        "x.argmax==0\n",
        "np.max(x)==0\n",
        "x.max()"
      ]
    },
    {
      "cell_type": "markdown",
      "metadata": {
        "id": "44bYuS8I28A0"
      },
      "source": [
        "#### 46. Create a structured array with `x` and `y` coordinates covering the \\[0,1\\]x\\[0,1\\] area (★★☆) \n",
        "(**hint**: np.meshgrid)"
      ]
    },
    {
      "cell_type": "code",
      "execution_count": null,
      "metadata": {
        "id": "PhIEN83-28A0"
      },
      "outputs": [],
      "source": [
        "z = np.zeros((5, 5), [('x', float), ('y', float)])\n",
        "z['x'], z['y'] = np.meshgrid(np.linspace(0, 1, 5), np.linspace(0, 1, 5))"
      ]
    },
    {
      "cell_type": "markdown",
      "metadata": {
        "id": "OjpQQ8iC28A0"
      },
      "source": [
        "####  47. Given two arrays, X and Y, construct the Cauchy matrix C (Cij =1/(xi - yj)) \n",
        "(**hint**: np.subtract.outer)"
      ]
    },
    {
      "cell_type": "code",
      "execution_count": null,
      "metadata": {
        "colab": {
          "base_uri": "https://localhost:8080/"
        },
        "id": "DBL9rpyN28A0",
        "outputId": "c30c8259-acb2-4bb5-82f2-333adb33eb3c"
      },
      "outputs": [
        {
          "output_type": "execute_result",
          "data": {
            "text/plain": [
              "array([[ 3.62113249e+07, -1.54829396e+04, -1.79343498e+04,\n",
              "         3.22566302e+06,  1.53637213e+06],\n",
              "       [-9.87913276e+04,  1.38792030e+07, -2.06357812e+05,\n",
              "        -7.33812987e+05, -9.91917943e+05],\n",
              "       [-8.52526821e+06, -3.06490858e+04,  4.14203203e+06,\n",
              "        -5.92682060e+04, -4.17497182e+06],\n",
              "       [-6.21925946e+05, -2.69747775e+04, -3.18070905e+05,\n",
              "        -6.44643310e+04, -3.32245952e+07],\n",
              "       [ 1.04469169e+07, -5.76083897e+04, -3.02384723e+05,\n",
              "         3.50102011e+04,  7.81311555e+04]])"
            ]
          },
          "metadata": {},
          "execution_count": 76
        }
      ],
      "source": [
        "x = np.random.random((5, 5))\n",
        "y = np.random.random((5, 5))\n",
        "c = 1/(x - y)\n",
        "c = 1/np.subtract.outer(x, y)\n",
        "np.linalg.det(c)"
      ]
    },
    {
      "cell_type": "markdown",
      "metadata": {
        "id": "YQdbCYpr28A0"
      },
      "source": [
        "#### 48. Print the minimum and maximum representable value for each numpy scalar type (★★☆) \n",
        "(**hint**: np.iinfo, np.finfo, eps)"
      ]
    },
    {
      "cell_type": "code",
      "execution_count": null,
      "metadata": {
        "colab": {
          "base_uri": "https://localhost:8080/"
        },
        "id": "UWKauIVc28A0",
        "outputId": "c5ecfa06-5e90-4cfc-d7b0-fb6bed728963"
      },
      "outputs": [
        {
          "output_type": "stream",
          "name": "stdout",
          "text": [
            "-128\n",
            "127\n",
            "-2147483648\n",
            "2147483647\n",
            "-9223372036854775808\n",
            "9223372036854775807\n",
            "-3.4028235e+38\n",
            "3.4028235e+38\n",
            "1.1920929e-07\n",
            "-1.7976931348623157e+308\n",
            "1.7976931348623157e+308\n",
            "2.220446049250313e-16\n"
          ]
        }
      ],
      "source": [
        "for dtype in [np.int8, np.int32, np.int64]:\n",
        "   print(np.iinfo(dtype).min)\n",
        "   print(np.iinfo(dtype).max)\n",
        "for dtype in [np.float32, np.float64]:\n",
        "   print(np.finfo(dtype).min)\n",
        "   print(np.finfo(dtype).max)\n",
        "   print(np.finfo(dtype).eps)"
      ]
    },
    {
      "cell_type": "markdown",
      "metadata": {
        "id": "5SqKCPCG28A0"
      },
      "source": [
        "#### 49. How to print all the values of an array? (★★☆) \n",
        "(**hint**: np.set\\_printoptions)"
      ]
    },
    {
      "cell_type": "code",
      "execution_count": null,
      "metadata": {
        "colab": {
          "base_uri": "https://localhost:8080/"
        },
        "id": "0jsqC3iI28A1",
        "outputId": "09af51ca-d8ac-4a21-9da3-d58c3524b7df"
      },
      "outputs": [
        {
          "output_type": "stream",
          "name": "stdout",
          "text": [
            "[[0. 0. 0. 0.]\n",
            " [0. 0. 0. 0.]\n",
            " [0. 0. 0. 0.]\n",
            " [0. 0. 0. 0.]\n",
            " [0. 0. 0. 0.]]\n"
          ]
        }
      ],
      "source": [
        "np.set_printoptions(threshold=float(\"inf\"))\n",
        "x= np.zeros((5,4))\n",
        "print(x)"
      ]
    },
    {
      "cell_type": "markdown",
      "metadata": {
        "id": "T3AYlB4v28A1"
      },
      "source": [
        "#### 50. How to find the closest value (to a given scalar) in a vector? (★★☆) \n",
        "(**hint**: argmin)"
      ]
    },
    {
      "cell_type": "code",
      "execution_count": null,
      "metadata": {
        "id": "hznVOUOD28A1",
        "colab": {
          "base_uri": "https://localhost:8080/"
        },
        "outputId": "1262f055-6cf0-41da-dfd1-cff573ec5f8d"
      },
      "outputs": [
        {
          "output_type": "stream",
          "name": "stdout",
          "text": [
            "5\n"
          ]
        }
      ],
      "source": [
        "Z = np.arange(100)\n",
        "v = np.random.uniform(0,100)\n",
        "index = (np.abs(Z-v)).argmin()\n",
        "print(Z[index])"
      ]
    },
    {
      "cell_type": "markdown",
      "metadata": {
        "id": "oIcg2BjV28A1"
      },
      "source": [
        "#### 51. Create a structured array representing a position (x,y) and a color (r,g,b) (★★☆) \n",
        "(**hint**: dtype)"
      ]
    },
    {
      "cell_type": "code",
      "execution_count": null,
      "metadata": {
        "id": "7JxuX5UL28A1",
        "colab": {
          "base_uri": "https://localhost:8080/"
        },
        "outputId": "d7513c68-ce56-4904-9932-c4bdb2c372bf"
      },
      "outputs": [
        {
          "output_type": "stream",
          "name": "stdout",
          "text": [
            "[((0., 0.), (0., 0., 0.)) ((0., 0.), (0., 0., 0.))\n",
            " ((0., 0.), (0., 0., 0.)) ((0., 0.), (0., 0., 0.))\n",
            " ((0., 0.), (0., 0., 0.)) ((0., 0.), (0., 0., 0.))\n",
            " ((0., 0.), (0., 0., 0.)) ((0., 0.), (0., 0., 0.))\n",
            " ((0., 0.), (0., 0., 0.)) ((0., 0.), (0., 0., 0.))]\n"
          ]
        },
        {
          "output_type": "stream",
          "name": "stderr",
          "text": [
            "/usr/local/lib/python3.7/dist-packages/ipykernel_launcher.py:6: FutureWarning: Passing (type, 1) or '1type' as a synonym of type is deprecated; in a future version of numpy, it will be understood as (type, (1,)) / '(1,)type'.\n",
            "  \n"
          ]
        }
      ],
      "source": [
        "import numpy as np\n",
        "Z = np.zeros(10, [ ('position', [ ('x', float, 1),\n",
        "                                  ('y', float, 1)]),\n",
        "                   ('color',    [ ('r', float, 1),\n",
        "                                  ('g', float, 1),\n",
        "                                  ('b', float, 1)])])\n",
        "print(Z)"
      ]
    },
    {
      "cell_type": "markdown",
      "metadata": {
        "id": "fOcC0Kyd28A1"
      },
      "source": [
        "#### 52. Consider a random vector with shape (100,2) representing coordinates, find point by point distances (★★☆) \n",
        "(**hint**: np.atleast\\_2d, T, np.sqrt)"
      ]
    },
    {
      "cell_type": "code",
      "execution_count": null,
      "metadata": {
        "id": "qynfvdpW28A1",
        "colab": {
          "base_uri": "https://localhost:8080/"
        },
        "outputId": "1e9ed3f3-4d57-4a5f-bc5a-7fb25c2800d5"
      },
      "outputs": [
        {
          "output_type": "stream",
          "name": "stdout",
          "text": [
            "[[0.         0.25206141 0.45769602 0.83370113 0.41423948 0.03690586\n",
            "  0.2013714  0.33103666 0.80183858 0.75658531]\n",
            " [0.25206141 0.         0.61941667 0.6952863  0.2827756  0.223623\n",
            "  0.3634858  0.07916613 0.84167052 0.78356155]\n",
            " [0.45769602 0.61941667 0.         0.79873675 0.54177451 0.45391559\n",
            "  0.26487701 0.67772735 0.4546188  0.44083459]\n",
            " [0.83370113 0.6952863  0.79873675 0.         0.42571561 0.79767559\n",
            "  0.74323244 0.6598395  0.57584509 0.51758202]\n",
            " [0.41423948 0.2827756  0.54177451 0.42571561 0.         0.3774983\n",
            "  0.37292284 0.27192232 0.61017645 0.54623244]\n",
            " [0.03690586 0.223623   0.45391559 0.79767559 0.3774983  0.\n",
            "  0.1913956  0.30185632 0.78041442 0.73333378]\n",
            " [0.2013714  0.3634858  0.26487701 0.74323244 0.37292284 0.1913956\n",
            "  0.         0.42954962 0.61049065 0.57048408]\n",
            " [0.33103666 0.07916613 0.67772735 0.6598395  0.27192232 0.30185632\n",
            "  0.42954962 0.         0.86311469 0.80226186]\n",
            " [0.80183858 0.84167052 0.4546188  0.57584509 0.61017645 0.78041442\n",
            "  0.61049065 0.86311469 0.         0.06643228]\n",
            " [0.75658531 0.78356155 0.44083459 0.51758202 0.54623244 0.73333378\n",
            "  0.57048408 0.80226186 0.06643228 0.        ]]\n"
          ]
        }
      ],
      "source": [
        "Z = np.random.random((10,2))\n",
        "X,Y = np.atleast_2d(Z[:,0], Z[:,1])\n",
        "D = np.sqrt( (X-X.T)**2 + (Y-Y.T)**2)\n",
        "print(D)"
      ]
    },
    {
      "cell_type": "markdown",
      "metadata": {
        "id": "qHpp9Aqm28A2"
      },
      "source": [
        "#### 53. How to convert a float (32 bits) array into an integer (32 bits) in place? \n",
        "(**hint**: astype(copy=False))"
      ]
    },
    {
      "cell_type": "code",
      "execution_count": null,
      "metadata": {
        "id": "J5VSLSdd28A2",
        "colab": {
          "base_uri": "https://localhost:8080/"
        },
        "outputId": "0a2404f2-5b8e-4a44-a43b-e2840dfe1f96"
      },
      "outputs": [
        {
          "output_type": "stream",
          "name": "stdout",
          "text": [
            "[25 35 50 70 51 15 96 89  0 36]\n"
          ]
        }
      ],
      "source": [
        "Z = (np.random.rand(10)*100).astype(np.float32)\n",
        "Y = Z.view(np.int32)\n",
        "Y[:] = Z\n",
        "print(Y)"
      ]
    },
    {
      "cell_type": "markdown",
      "metadata": {
        "id": "U8DbOPL_28A2"
      },
      "source": [
        "#### 54. How to read the following file? (★★☆) \n",
        "(**hint**: np.genfromtxt)"
      ]
    },
    {
      "cell_type": "markdown",
      "metadata": {
        "id": "UQVOoVgs28A2"
      },
      "source": [
        "```\n",
        "1, 2, 3, 4, 5\n",
        "6,  ,  , 7, 8\n",
        " ,  , 9,10,11\n",
        "```"
      ]
    },
    {
      "cell_type": "code",
      "execution_count": null,
      "metadata": {
        "id": "q6C2qIYD28A2",
        "colab": {
          "base_uri": "https://localhost:8080/"
        },
        "outputId": "e0e3e08a-3556-4863-e6a9-a052c70ab7da"
      },
      "outputs": [
        {
          "output_type": "stream",
          "name": "stdout",
          "text": [
            "[[ 1  2  3  4  5]\n",
            " [ 6 -1 -1  7  8]\n",
            " [-1 -1  9 10 11]]\n"
          ]
        },
        {
          "output_type": "stream",
          "name": "stderr",
          "text": [
            "/usr/local/lib/python3.7/dist-packages/ipykernel_launcher.py:5: DeprecationWarning: `np.int` is a deprecated alias for the builtin `int`. To silence this warning, use `int` by itself. Doing this will not modify any behavior and is safe. When replacing `np.int`, you may wish to use e.g. `np.int64` or `np.int32` to specify the precision. If you wish to review your current use, check the release note link for additional information.\n",
            "Deprecated in NumPy 1.20; for more details and guidance: https://numpy.org/devdocs/release/1.20.0-notes.html#deprecations\n",
            "  \"\"\"\n"
          ]
        }
      ],
      "source": [
        "from io import StringIO\n",
        "s = StringIO('''1, 2, 3, 4, 5\n",
        "                6,  ,  , 7, 8\n",
        "                 ,  , 9,10,11''')\n",
        "Z = np.genfromtxt(s, delimiter=\",\", dtype=np.int)\n",
        "print(Z)"
      ]
    },
    {
      "cell_type": "markdown",
      "metadata": {
        "id": "8vlhhpjH28A2"
      },
      "source": [
        "#### 55. What is the equivalent of enumerate for numpy arrays? (★★☆) \n",
        "(**hint**: np.ndenumerate, np.ndindex)"
      ]
    },
    {
      "cell_type": "code",
      "execution_count": null,
      "metadata": {
        "id": "iKwu18h428A2",
        "colab": {
          "base_uri": "https://localhost:8080/"
        },
        "outputId": "8a878d52-ad34-44d7-b331-780e0a5cad15"
      },
      "outputs": [
        {
          "output_type": "stream",
          "name": "stdout",
          "text": [
            "(0, 0) 0\n",
            "(0, 1) 1\n",
            "(0, 2) 2\n",
            "(1, 0) 3\n",
            "(1, 1) 4\n",
            "(1, 2) 5\n",
            "(2, 0) 6\n",
            "(2, 1) 7\n",
            "(2, 2) 8\n",
            "(0, 0) 0\n",
            "(0, 1) 1\n",
            "(0, 2) 2\n",
            "(1, 0) 3\n",
            "(1, 1) 4\n",
            "(1, 2) 5\n",
            "(2, 0) 6\n",
            "(2, 1) 7\n",
            "(2, 2) 8\n"
          ]
        }
      ],
      "source": [
        "Z = np.arange(9).reshape(3,3)\n",
        "for index, value in np.ndenumerate(Z):\n",
        "    print(index, value)\n",
        "for index in np.ndindex(Z.shape):\n",
        "    print(index, Z[index])"
      ]
    },
    {
      "cell_type": "markdown",
      "metadata": {
        "id": "t63vk-8s28A3"
      },
      "source": [
        "#### 56. Generate a generic 2D Gaussian-like array (★★☆) \n",
        "(**hint**: np.meshgrid, np.exp)"
      ]
    },
    {
      "cell_type": "code",
      "execution_count": null,
      "metadata": {
        "id": "8TH09cfF28A3",
        "colab": {
          "base_uri": "https://localhost:8080/"
        },
        "outputId": "d9c6e118-5409-41f6-a4b7-cc8d96b0c113"
      },
      "outputs": [
        {
          "output_type": "stream",
          "name": "stdout",
          "text": [
            "[[0.36787944 0.44822088 0.51979489 0.57375342 0.60279818 0.60279818\n",
            "  0.57375342 0.51979489 0.44822088 0.36787944]\n",
            " [0.44822088 0.54610814 0.63331324 0.69905581 0.73444367 0.73444367\n",
            "  0.69905581 0.63331324 0.54610814 0.44822088]\n",
            " [0.51979489 0.63331324 0.73444367 0.81068432 0.85172308 0.85172308\n",
            "  0.81068432 0.73444367 0.63331324 0.51979489]\n",
            " [0.57375342 0.69905581 0.81068432 0.89483932 0.9401382  0.9401382\n",
            "  0.89483932 0.81068432 0.69905581 0.57375342]\n",
            " [0.60279818 0.73444367 0.85172308 0.9401382  0.98773022 0.98773022\n",
            "  0.9401382  0.85172308 0.73444367 0.60279818]\n",
            " [0.60279818 0.73444367 0.85172308 0.9401382  0.98773022 0.98773022\n",
            "  0.9401382  0.85172308 0.73444367 0.60279818]\n",
            " [0.57375342 0.69905581 0.81068432 0.89483932 0.9401382  0.9401382\n",
            "  0.89483932 0.81068432 0.69905581 0.57375342]\n",
            " [0.51979489 0.63331324 0.73444367 0.81068432 0.85172308 0.85172308\n",
            "  0.81068432 0.73444367 0.63331324 0.51979489]\n",
            " [0.44822088 0.54610814 0.63331324 0.69905581 0.73444367 0.73444367\n",
            "  0.69905581 0.63331324 0.54610814 0.44822088]\n",
            " [0.36787944 0.44822088 0.51979489 0.57375342 0.60279818 0.60279818\n",
            "  0.57375342 0.51979489 0.44822088 0.36787944]]\n"
          ]
        }
      ],
      "source": [
        "X, Y = np.meshgrid(np.linspace(-1,1,10), np.linspace(-1,1,10))\n",
        "D = np.sqrt(X*X+Y*Y)\n",
        "sigma, mu = 1.0, 0.0\n",
        "G = np.exp(-( (D-mu)**2 / ( 2.0 * sigma**2 ) ) )\n",
        "print(G)"
      ]
    },
    {
      "cell_type": "markdown",
      "metadata": {
        "id": "W43Y1dsl28A3"
      },
      "source": [
        "#### 57. How to randomly place p elements in a 2D array? (★★☆) \n",
        "(**hint**: np.put, np.random.choice)"
      ]
    },
    {
      "cell_type": "code",
      "execution_count": null,
      "metadata": {
        "id": "-O8GBPBm28A3",
        "colab": {
          "base_uri": "https://localhost:8080/"
        },
        "outputId": "954f572f-5b2c-4b56-8f5e-559b13ae8a00"
      },
      "outputs": [
        {
          "output_type": "stream",
          "name": "stdout",
          "text": [
            "[[0. 0. 0. 0. 1. 0. 0. 0. 0. 0.]\n",
            " [0. 0. 0. 0. 0. 0. 0. 0. 0. 0.]\n",
            " [0. 0. 0. 0. 0. 0. 0. 0. 0. 0.]\n",
            " [0. 0. 0. 0. 0. 0. 0. 1. 0. 0.]\n",
            " [0. 0. 0. 0. 0. 0. 0. 0. 0. 0.]\n",
            " [0. 0. 0. 0. 0. 0. 0. 0. 0. 0.]\n",
            " [0. 0. 0. 0. 0. 0. 0. 0. 0. 0.]\n",
            " [0. 0. 0. 0. 0. 0. 0. 0. 0. 0.]\n",
            " [0. 0. 1. 0. 0. 0. 0. 0. 0. 0.]\n",
            " [0. 0. 0. 0. 0. 0. 0. 0. 0. 0.]]\n"
          ]
        }
      ],
      "source": [
        "n = 10\n",
        "p = 3\n",
        "Z = np.zeros((n,n))\n",
        "np.put(Z, np.random.choice(range(n*n), p, replace=False),1)\n",
        "print(Z)"
      ]
    },
    {
      "cell_type": "markdown",
      "metadata": {
        "id": "LD6qeLAB28A3"
      },
      "source": [
        "#### 58. Subtract the mean of each row of a matrix (★★☆) \n",
        "(**hint**: mean(axis=,keepdims=))"
      ]
    },
    {
      "cell_type": "code",
      "execution_count": null,
      "metadata": {
        "id": "EMgsbeje28A3",
        "colab": {
          "base_uri": "https://localhost:8080/"
        },
        "outputId": "8481422c-0c89-4c58-a2ab-3d14f24135e0"
      },
      "outputs": [
        {
          "output_type": "execute_result",
          "data": {
            "text/plain": [
              "array([[ 0.30646024,  0.01182088, -0.15214542,  0.33714217, -0.39869191,\n",
              "         0.09361499, -0.03149151, -0.49495118,  0.44980283, -0.1215611 ],\n",
              "       [ 0.19362993, -0.35122886, -0.24217851, -0.18339091, -0.22803472,\n",
              "        -0.05298247,  0.55056978,  0.33887379, -0.0517269 ,  0.02646889],\n",
              "       [ 0.27107184,  0.33006777,  0.21413104,  0.22255479,  0.25724237,\n",
              "         0.0009372 , -0.16667561, -0.21284647, -0.5180215 , -0.39846142],\n",
              "       [ 0.44398862, -0.30837103,  0.24708137, -0.26256784, -0.01464972,\n",
              "         0.38817761, -0.13501288, -0.32636476, -0.39300166,  0.36072029],\n",
              "       [-0.2055797 , -0.41160157, -0.3623527 ,  0.19702197,  0.33006376,\n",
              "         0.51382318, -0.20420806,  0.35819167, -0.38549432,  0.17013577]])"
            ]
          },
          "metadata": {},
          "execution_count": 10
        }
      ],
      "source": [
        "X = np.random.rand(5, 10)\n",
        "Y = X - X.mean(axis=1, keepdims=True)\n",
        "Y"
      ]
    },
    {
      "cell_type": "markdown",
      "metadata": {
        "id": "wx6ucjbM28A3"
      },
      "source": [
        "#### 59. How to sort an array by the nth column? (★★☆) \n",
        "(**hint**: argsort)"
      ]
    },
    {
      "cell_type": "code",
      "execution_count": null,
      "metadata": {
        "id": "sZjD12MP28A3",
        "colab": {
          "base_uri": "https://localhost:8080/"
        },
        "outputId": "1e9b0966-2627-4381-d6b0-8a4cd5e116ff"
      },
      "outputs": [
        {
          "output_type": "stream",
          "name": "stdout",
          "text": [
            "[[3 8 5]\n",
            " [2 1 4]\n",
            " [4 3 8]]\n",
            "[[2 1 4]\n",
            " [4 3 8]\n",
            " [3 8 5]]\n"
          ]
        }
      ],
      "source": [
        "Z = np.random.randint(0,10,(3,3))\n",
        "print(Z)\n",
        "print(Z[Z[:,1].argsort()])"
      ]
    },
    {
      "cell_type": "markdown",
      "metadata": {
        "id": "GDB0Tf0L28A4"
      },
      "source": [
        "#### 60. How to tell if a given 2D array has null columns? (★★☆) \n",
        "(**hint**: any, ~)"
      ]
    },
    {
      "cell_type": "code",
      "execution_count": null,
      "metadata": {
        "id": "e1KR51ZB28A4",
        "colab": {
          "base_uri": "https://localhost:8080/"
        },
        "outputId": "df87da58-8738-4e68-bfa4-8732943615f2"
      },
      "outputs": [
        {
          "output_type": "stream",
          "name": "stdout",
          "text": [
            "True\n"
          ]
        }
      ],
      "source": [
        "Z = np.random.randint(0,3,(3,10))\n",
        "print((~Z.any(axis=0)).any())"
      ]
    },
    {
      "cell_type": "markdown",
      "metadata": {
        "id": "pmxNZtYH28A4"
      },
      "source": [
        "#### 61. Find the nearest value from a given value in an array (★★☆) \n",
        "(**hint**: np.abs, argmin, flat)"
      ]
    },
    {
      "cell_type": "code",
      "execution_count": null,
      "metadata": {
        "id": "vQUiPr_h28A4",
        "colab": {
          "base_uri": "https://localhost:8080/"
        },
        "outputId": "0f34c495-2b36-4bad-d2c8-54ec5e411da3"
      },
      "outputs": [
        {
          "output_type": "stream",
          "name": "stdout",
          "text": [
            "0.5297307144993306\n"
          ]
        }
      ],
      "source": [
        "Z = np.random.uniform(0,1,10)\n",
        "z = 0.5\n",
        "m = Z.flat[np.abs(Z - z).argmin()]\n",
        "print(m)"
      ]
    },
    {
      "cell_type": "markdown",
      "metadata": {
        "id": "nCPUPs7T28A4"
      },
      "source": [
        "#### 62. Considering two arrays with shape (1,3) and (3,1), how to compute their sum using an iterator? (★★☆) \n",
        "(**hint**: np.nditer)"
      ]
    },
    {
      "cell_type": "code",
      "execution_count": null,
      "metadata": {
        "id": "ha7oKmG_28A4",
        "colab": {
          "base_uri": "https://localhost:8080/"
        },
        "outputId": "faae7ce6-bf78-474c-d794-98479d53b587"
      },
      "outputs": [
        {
          "output_type": "stream",
          "name": "stdout",
          "text": [
            "[[0 1 2]\n",
            " [1 2 3]\n",
            " [2 3 4]]\n"
          ]
        }
      ],
      "source": [
        "A = np.arange(3).reshape(3,1)\n",
        "B = np.arange(3).reshape(1,3)\n",
        "it = np.nditer([A,B,None])\n",
        "for x,y,z in it: z[...] = x + y\n",
        "print(it.operands[2])"
      ]
    },
    {
      "cell_type": "markdown",
      "metadata": {
        "id": "GpQiG7yX28A4"
      },
      "source": [
        "#### 63. Create an array class that has a name attribute (★★☆) \n",
        "(**hint**: class method)"
      ]
    },
    {
      "cell_type": "code",
      "execution_count": null,
      "metadata": {
        "id": "tecLayPK28A5",
        "colab": {
          "base_uri": "https://localhost:8080/"
        },
        "outputId": "85cece88-e81b-4279-9acb-c67725c98d58"
      },
      "outputs": [
        {
          "output_type": "stream",
          "name": "stdout",
          "text": [
            "range_10\n"
          ]
        }
      ],
      "source": [
        "class NamedArray(np.ndarray):\n",
        "    def __new__(cls, array, name=\"no name\"):\n",
        "        obj = np.asarray(array).view(cls)\n",
        "        obj.name = name\n",
        "        return obj\n",
        "    def __array_finalize__(self, obj):\n",
        "        if obj is None: return\n",
        "        self.info = getattr(obj, 'name', \"no name\")\n",
        "\n",
        "Z = NamedArray(np.arange(10), \"range_10\")\n",
        "print (Z.name)"
      ]
    },
    {
      "cell_type": "markdown",
      "metadata": {
        "id": "tHIwe-gs28A5"
      },
      "source": [
        "#### 64. Consider a given vector, how to add 1 to each element indexed by a second vector (be careful with repeated indices)? (★★★) \n",
        "(**hint**: np.bincount | np.add.at)"
      ]
    },
    {
      "cell_type": "code",
      "execution_count": null,
      "metadata": {
        "id": "tDyIWyd228A5",
        "colab": {
          "base_uri": "https://localhost:8080/"
        },
        "outputId": "5142bb5c-626a-4133-cd61-17d9b523d878"
      },
      "outputs": [
        {
          "output_type": "stream",
          "name": "stdout",
          "text": [
            "[4. 1. 3. 3. 6. 1. 3. 2. 5. 2.]\n"
          ]
        }
      ],
      "source": [
        "Z = np.ones(10)\n",
        "I = np.random.randint(0,len(Z),20)\n",
        "Z += np.bincount(I, minlength=len(Z))\n",
        "print(Z)"
      ]
    },
    {
      "cell_type": "markdown",
      "metadata": {
        "id": "x-s5KKqo28A5"
      },
      "source": [
        "#### 65. How to accumulate elements of a vector (X) to an array (F) based on an index list (I)? (★★★) \n",
        "(**hint**: np.bincount)"
      ]
    },
    {
      "cell_type": "code",
      "execution_count": null,
      "metadata": {
        "id": "FE3ksxIE28A5",
        "colab": {
          "base_uri": "https://localhost:8080/"
        },
        "outputId": "20627225-b922-4d5b-a7e1-7bb20da4cdc6"
      },
      "outputs": [
        {
          "output_type": "stream",
          "name": "stdout",
          "text": [
            "[0. 7. 0. 6. 5. 0. 0. 0. 0. 3.]\n"
          ]
        }
      ],
      "source": [
        "X = [1,2,3,4,5,6]\n",
        "I = [1,3,9,3,4,1]\n",
        "F = np.bincount(I,X)\n",
        "print(F)"
      ]
    },
    {
      "cell_type": "markdown",
      "metadata": {
        "id": "WDXmR5a428A5"
      },
      "source": [
        "#### 66. Considering a (w,h,3) image of (dtype=ubyte), compute the number of unique colors (★★★) \n",
        "(**hint**: np.unique)"
      ]
    },
    {
      "cell_type": "code",
      "execution_count": null,
      "metadata": {
        "id": "HKMeDG_X28A5",
        "colab": {
          "base_uri": "https://localhost:8080/"
        },
        "outputId": "1e9f96a4-204d-4426-c0f2-2626a2de9ac4"
      },
      "outputs": [
        {
          "output_type": "stream",
          "name": "stdout",
          "text": [
            "64\n"
          ]
        }
      ],
      "source": [
        "w, h = 256, 256\n",
        "I = np.random.randint(0, 4, (h, w, 3)).astype(np.ubyte)\n",
        "colors = np.unique(I.reshape(-1, 3), axis=0)\n",
        "n = len(colors)\n",
        "print(n)"
      ]
    },
    {
      "cell_type": "markdown",
      "metadata": {
        "id": "NQKilMO-28A6"
      },
      "source": [
        "#### 67. Considering a four dimensions array, how to get sum over the last two axis at once? (★★★) \n",
        "(**hint**: sum(axis=(-2,-1)))"
      ]
    },
    {
      "cell_type": "code",
      "execution_count": null,
      "metadata": {
        "id": "6nDHMIQ628A6",
        "colab": {
          "base_uri": "https://localhost:8080/"
        },
        "outputId": "1a9d1e51-a3a7-4dc9-81af-044a6a45f4b7"
      },
      "outputs": [
        {
          "output_type": "stream",
          "name": "stdout",
          "text": [
            "[[67 50 53 47]\n",
            " [64 46 60 44]\n",
            " [71 39 56 43]]\n"
          ]
        }
      ],
      "source": [
        "A = np.random.randint(0,10,(3,4,3,4))\n",
        "sum = A.sum(axis=(-2,-1))\n",
        "print(sum)"
      ]
    },
    {
      "cell_type": "markdown",
      "metadata": {
        "id": "GSuRUI6K28A6"
      },
      "source": [
        "#### 68. Considering a one-dimensional vector D, how to compute means of subsets of D using a vector S of same size describing subset  indices? (★★★) \n",
        "(**hint**: np.bincount)"
      ]
    },
    {
      "cell_type": "code",
      "execution_count": null,
      "metadata": {
        "id": "NB8C9pFI28A6",
        "colab": {
          "base_uri": "https://localhost:8080/"
        },
        "outputId": "95a9ca19-6fde-4bb1-e7e2-40e441f9d6f3"
      },
      "outputs": [
        {
          "output_type": "stream",
          "name": "stdout",
          "text": [
            "0    0.743181\n",
            "1    0.456862\n",
            "2    0.476850\n",
            "3    0.488667\n",
            "4    0.549718\n",
            "5    0.526239\n",
            "6    0.551825\n",
            "7    0.487249\n",
            "8    0.457842\n",
            "9    0.445912\n",
            "dtype: float64\n"
          ]
        }
      ],
      "source": [
        "import pandas as pd\n",
        "print(pd.Series(D).groupby(S).mean())"
      ]
    },
    {
      "cell_type": "markdown",
      "metadata": {
        "id": "FA-JwsNR28A6"
      },
      "source": [
        "#### 69. How to get the diagonal of a dot product? (★★★) \n",
        "(**hint**: np.diag)"
      ]
    },
    {
      "cell_type": "code",
      "execution_count": null,
      "metadata": {
        "id": "vzS51Vkf28A6",
        "colab": {
          "base_uri": "https://localhost:8080/"
        },
        "outputId": "fee172aa-25bd-4b14-f9b1-1de44762922c"
      },
      "outputs": [
        {
          "output_type": "execute_result",
          "data": {
            "text/plain": [
              "array([1.79817064, 0.70197348, 0.61850136, 1.20433296, 0.29554711])"
            ]
          },
          "metadata": {},
          "execution_count": 22
        }
      ],
      "source": [
        "A = np.random.uniform(0,1,(5,5))\n",
        "B = np.random.uniform(0,1,(5,5))\n",
        "np.diag(np.dot(A, B))"
      ]
    },
    {
      "cell_type": "markdown",
      "metadata": {
        "id": "rxXyleXy28A7"
      },
      "source": [
        "#### 70. Consider the vector \\[1, 2, 3, 4, 5\\], how to build a new vector with 3 consecutive zeros interleaved between each value? (★★★) \n",
        "(**hint**: array\\[::4\\])"
      ]
    },
    {
      "cell_type": "code",
      "execution_count": null,
      "metadata": {
        "id": "NOsGg81z28A7",
        "colab": {
          "base_uri": "https://localhost:8080/"
        },
        "outputId": "9d4f8ad4-f524-4892-8d90-0e8f7c55c899"
      },
      "outputs": [
        {
          "output_type": "stream",
          "name": "stdout",
          "text": [
            "[1. 0. 0. 0. 2. 0. 0. 0. 3. 0. 0. 0. 4. 0. 0. 0. 5.]\n"
          ]
        }
      ],
      "source": [
        "Z = np.array([1,2,3,4,5])\n",
        "nz = 3\n",
        "Z0 = np.zeros(len(Z) + (len(Z)-1)*(nz))\n",
        "Z0[::nz+1] = Z\n",
        "print(Z0)"
      ]
    },
    {
      "cell_type": "markdown",
      "metadata": {
        "id": "-tmvVaiV28A7"
      },
      "source": [
        "#### 71. Consider an array of dimension (5,5,3), how to mulitply it by an array with dimensions (5,5)? (★★★) \n",
        "(**hint**: array\\[:, :, None\\])"
      ]
    },
    {
      "cell_type": "code",
      "execution_count": null,
      "metadata": {
        "collapsed": true,
        "id": "rI1Av9Bi28A7",
        "colab": {
          "base_uri": "https://localhost:8080/"
        },
        "outputId": "c1ac4381-7f28-4ef9-89c1-8cf007d76f1e"
      },
      "outputs": [
        {
          "output_type": "stream",
          "name": "stdout",
          "text": [
            "[[[2. 2. 2.]\n",
            "  [2. 2. 2.]\n",
            "  [2. 2. 2.]\n",
            "  [2. 2. 2.]\n",
            "  [2. 2. 2.]]\n",
            "\n",
            " [[2. 2. 2.]\n",
            "  [2. 2. 2.]\n",
            "  [2. 2. 2.]\n",
            "  [2. 2. 2.]\n",
            "  [2. 2. 2.]]\n",
            "\n",
            " [[2. 2. 2.]\n",
            "  [2. 2. 2.]\n",
            "  [2. 2. 2.]\n",
            "  [2. 2. 2.]\n",
            "  [2. 2. 2.]]\n",
            "\n",
            " [[2. 2. 2.]\n",
            "  [2. 2. 2.]\n",
            "  [2. 2. 2.]\n",
            "  [2. 2. 2.]\n",
            "  [2. 2. 2.]]\n",
            "\n",
            " [[2. 2. 2.]\n",
            "  [2. 2. 2.]\n",
            "  [2. 2. 2.]\n",
            "  [2. 2. 2.]\n",
            "  [2. 2. 2.]]]\n"
          ]
        }
      ],
      "source": [
        "A = np.ones((5,5,3))\n",
        "B = 2*np.ones((5,5))\n",
        "print(A * B[:,:,None])"
      ]
    },
    {
      "cell_type": "markdown",
      "metadata": {
        "id": "XjmS2COg28A7"
      },
      "source": [
        "#### 72. How to swap two rows of an array? (★★★) \n",
        "(**hint**: array\\[\\[\\]\\] = array\\[\\[\\]\\])"
      ]
    },
    {
      "cell_type": "code",
      "execution_count": null,
      "metadata": {
        "id": "Z-TOQP8c28A8",
        "colab": {
          "base_uri": "https://localhost:8080/"
        },
        "outputId": "9a691eb7-21b5-4813-da92-b352373ffc9b"
      },
      "outputs": [
        {
          "output_type": "stream",
          "name": "stdout",
          "text": [
            "[( 1, 24) ( 1, 82) ( 2, 23) ( 2, 77) ( 5, 52) ( 5, 69) (10, 53) (10, 84)\n",
            " (20, 30) (20, 51) (23, 77) (24, 82) (27, 29) (27, 49) (27, 51) (27, 90)\n",
            " (29, 37) (29, 49) (29, 80) (30, 51) (37, 80) (40, 52) (40, 73) (45, 50)\n",
            " (45, 60) (50, 60) (51, 90) (52, 69) (52, 73) (53, 84)]\n"
          ]
        }
      ],
      "source": [
        "faces = np.random.randint(0,100,(10,3))\n",
        "F = np.roll(faces.repeat(2,axis=1),-1,axis=1)\n",
        "F = F.reshape(len(F)*3,2)\n",
        "F = np.sort(F,axis=1)\n",
        "G = F.view( dtype=[('p0',F.dtype),('p1',F.dtype)] )\n",
        "G = np.unique(G)\n",
        "print(G)"
      ]
    },
    {
      "cell_type": "markdown",
      "metadata": {
        "id": "IQJJ4i1-28A8"
      },
      "source": [
        "#### 73. Consider a set of 10 triplets describing 10 triangles (with shared vertices), find the set of unique line segments composing all the  triangles (★★★) \n",
        "(**hint**: repeat, np.roll, np.sort, view, np.unique)"
      ]
    },
    {
      "cell_type": "code",
      "execution_count": null,
      "metadata": {
        "id": "jjzKVfZA28A8",
        "colab": {
          "base_uri": "https://localhost:8080/"
        },
        "outputId": "8c8af5b2-bc90-4a2c-c428-b6ea49482a23"
      },
      "outputs": [
        {
          "output_type": "stream",
          "name": "stdout",
          "text": [
            "[1 1 2 3 4 4 6]\n"
          ]
        }
      ],
      "source": [
        "C = np.bincount([1,1,2,3,4,4,6])\n",
        "A = np.repeat(np.arange(len(C)), C)\n",
        "print(A)"
      ]
    },
    {
      "cell_type": "markdown",
      "metadata": {
        "id": "OVqFhb_i28A8"
      },
      "source": [
        "#### 74. Given an array C that is a bincount, how to produce an array A such that np.bincount(A) == C? (★★★) \n",
        "(**hint**: np.repeat)"
      ]
    },
    {
      "cell_type": "code",
      "execution_count": null,
      "metadata": {
        "id": "uwOy_bWA28A9",
        "colab": {
          "base_uri": "https://localhost:8080/"
        },
        "outputId": "a748971f-aa0c-4a36-f203-aa0d766bcd8e"
      },
      "outputs": [
        {
          "output_type": "stream",
          "name": "stdout",
          "text": [
            "[1 1 2 3 4 4 6]\n"
          ]
        }
      ],
      "source": [
        "C = np.bincount([1,1,2,3,4,4,6])\n",
        "A = np.repeat(np.arange(len(C)), C)\n",
        "print(A)"
      ]
    },
    {
      "cell_type": "markdown",
      "metadata": {
        "id": "AXpeeCfJ28A9"
      },
      "source": [
        "#### 75. How to compute averages using a sliding window over an array? (★★★) \n",
        "(**hint**: np.cumsum)"
      ]
    },
    {
      "cell_type": "code",
      "execution_count": null,
      "metadata": {
        "id": "pnFco-tW28A9",
        "colab": {
          "base_uri": "https://localhost:8080/"
        },
        "outputId": "fcf52278-284a-439b-d7b8-3a80ade8450b"
      },
      "outputs": [
        {
          "output_type": "stream",
          "name": "stdout",
          "text": [
            "[ 1.  2.  3.  4.  5.  6.  7.  8.  9. 10. 11. 12. 13. 14. 15. 16. 17. 18.]\n"
          ]
        }
      ],
      "source": [
        "def moving_average(a, n=3) :\n",
        "    ret = np.cumsum(a, dtype=float)\n",
        "    ret[n:] = ret[n:] - ret[:-n]\n",
        "    return ret[n - 1:] / n\n",
        "Z = np.arange(20)\n",
        "print(moving_average(Z, n=3))"
      ]
    },
    {
      "cell_type": "markdown",
      "metadata": {
        "id": "cg058CVx28A9"
      },
      "source": [
        "#### 76. Consider a one-dimensional array Z, build a two-dimensional array whose first row is (Z\\[0\\],Z\\[1\\],Z\\[2\\]) and each subsequent row is  shifted by 1 (last row should be (Z\\[-3\\],Z\\[-2\\],Z\\[-1\\]) (★★★) \n",
        "(**hint**: from numpy.lib import stride_tricks)"
      ]
    },
    {
      "cell_type": "code",
      "execution_count": null,
      "metadata": {
        "id": "usi1682P28A9",
        "colab": {
          "base_uri": "https://localhost:8080/"
        },
        "outputId": "7f065bb1-29cb-4b1c-c8a5-dfb9e08f9af7"
      },
      "outputs": [
        {
          "output_type": "stream",
          "name": "stdout",
          "text": [
            "[[0 1 2]\n",
            " [1 2 3]\n",
            " [2 3 4]\n",
            " [3 4 5]\n",
            " [4 5 6]\n",
            " [5 6 7]\n",
            " [6 7 8]\n",
            " [7 8 9]]\n"
          ]
        }
      ],
      "source": [
        "from numpy.lib import stride_tricks\n",
        "\n",
        "def rolling(a, window):\n",
        "    shape = (a.size - window + 1, window)\n",
        "    strides = (a.strides[0], a.strides[0])\n",
        "    return stride_tricks.as_strided(a, shape=shape, strides=strides)\n",
        "Z = rolling(np.arange(10), 3)\n",
        "print(Z)"
      ]
    },
    {
      "cell_type": "markdown",
      "metadata": {
        "id": "NvUosOVF28A-"
      },
      "source": [
        "#### 77. How to negate a boolean, or to change the sign of a float inplace? (★★★) \n",
        "(**hint**: np.logical_not, np.negative)"
      ]
    },
    {
      "cell_type": "code",
      "execution_count": null,
      "metadata": {
        "id": "pIipwN3028A-",
        "colab": {
          "base_uri": "https://localhost:8080/"
        },
        "outputId": "c3602e6b-4023-4136-a8df-fd559bd95e9a"
      },
      "outputs": [
        {
          "output_type": "execute_result",
          "data": {
            "text/plain": [
              "array([ 0.85195719,  0.41798393,  0.81782385,  0.90837976, -0.96905776,\n",
              "       -0.37204779, -0.94909823,  0.87323152,  0.05735082,  0.24407298,\n",
              "       -0.11067652,  0.41986075, -0.63000503, -0.35426063,  0.14595573,\n",
              "       -0.07338943, -0.90137311,  0.79360827, -0.66134743, -0.57136037,\n",
              "       -0.78519655, -0.68883574, -0.94004085,  0.55486846,  0.6939301 ,\n",
              "        0.62257361, -0.94406678, -0.86121043,  0.13443819,  0.66736595,\n",
              "        0.30993521,  0.96143097,  0.17372379, -0.99133974, -0.16112023,\n",
              "       -0.18728386, -0.34138217, -0.76591362, -0.37278176, -0.63028497,\n",
              "       -0.17776742, -0.52633135, -0.92151977, -0.98266533,  0.26713853,\n",
              "        0.97078778, -0.88747092,  0.10723326,  0.00832518,  0.67133972,\n",
              "       -0.04689194,  0.45328216, -0.99264169, -0.8177631 ,  0.94223075,\n",
              "       -0.39235291,  0.06837354,  0.67070153,  0.50792062, -0.12154099,\n",
              "        0.57274658,  0.16852516,  0.34960699, -0.02664103, -0.33906252,\n",
              "       -0.46429985,  0.43070218, -0.91449241, -0.66402556,  0.44041151,\n",
              "        0.31857157,  0.38786096, -0.56745003, -0.54735195, -0.91590242,\n",
              "       -0.57586871,  0.43164286, -0.06384072,  0.64634899,  0.74824241,\n",
              "        0.35483178, -0.88514469, -0.03557569,  0.04181629,  0.42045368,\n",
              "       -0.76051151,  0.60489193,  0.53779737, -0.64812872,  0.81700931,\n",
              "        0.30176307,  0.61532959,  0.31101132, -0.19928204,  0.62901958,\n",
              "        0.08569597, -0.06773809, -0.42371012,  0.84505406, -0.08142408])"
            ]
          },
          "metadata": {},
          "execution_count": 32
        }
      ],
      "source": [
        "Z = np.random.uniform(-1.0,1.0,100)\n",
        "np.negative(Z, out=Z)"
      ]
    },
    {
      "cell_type": "markdown",
      "metadata": {
        "id": "U5R687xP28A-"
      },
      "source": [
        "#### 78. Consider 2 sets of points P0,P1 describing lines (2d) and a point p, how to compute distance from p to each line i  (P0\\[i\\],P1\\[i\\])? (★★★)"
      ]
    },
    {
      "cell_type": "code",
      "execution_count": null,
      "metadata": {
        "id": "2MPWOV_y28A-",
        "colab": {
          "base_uri": "https://localhost:8080/"
        },
        "outputId": "5e03b97a-7b32-4ce6-9307-f986b8147697"
      },
      "outputs": [
        {
          "output_type": "stream",
          "name": "stdout",
          "text": [
            "[2.04757296 9.15508572 9.83764049 8.76848282 2.27953389 3.61394044\n",
            " 1.61404177 0.40514736 5.44184343 1.85370673]\n"
          ]
        }
      ],
      "source": [
        "def distance(P0, P1, p):\n",
        "    T = P1 - P0\n",
        "    L = (T**2).sum(axis=1)\n",
        "    U = -((P0[:,0]-p[...,0])*T[:,0] + (P0[:,1]-p[...,1])*T[:,1]) / L\n",
        "    U = U.reshape(len(U),1)\n",
        "    D = P0 + U*T - p\n",
        "    return np.sqrt((D**2).sum(axis=1))\n",
        "\n",
        "P0 = np.random.uniform(-10,10,(10,2))\n",
        "P1 = np.random.uniform(-10,10,(10,2))\n",
        "p  = np.random.uniform(-10,10,( 1,2))\n",
        "print(distance(P0, P1, p))"
      ]
    },
    {
      "cell_type": "markdown",
      "metadata": {
        "id": "Y10USst-28A_"
      },
      "source": [
        "#### 79. Consider 2 sets of points P0,P1 describing lines (2d) and a set of points P, how to compute distance from each point j (P\\[j\\]) to each line i (P0\\[i\\],P1\\[i\\])? (★★★)"
      ]
    },
    {
      "cell_type": "code",
      "execution_count": null,
      "metadata": {
        "id": "0w2bJHHY28A_",
        "colab": {
          "base_uri": "https://localhost:8080/"
        },
        "outputId": "2bfabb11-5eae-47cf-917e-e81caa567728"
      },
      "outputs": [
        {
          "output_type": "stream",
          "name": "stdout",
          "text": [
            "[[ 8.23050935  8.31827561  8.98263125  4.89743432  6.28501369  3.27867264\n",
            "   0.23897114  8.08620595  0.06077029  2.18918177]\n",
            " [ 3.71577255  0.19988527  3.620131    4.29179982  2.31056665  0.88685965\n",
            "   2.72630047  0.86703944  8.3824573   5.00443079]\n",
            " [12.36815554  3.13968401  2.02959791  1.63513137  5.79426082  8.70857548\n",
            "   5.14170687  6.66614059  5.48841482  4.14003104]\n",
            " [ 9.07140873  5.46918075  5.92755145  2.61783255  5.02742675  4.83018992\n",
            "   1.28361956  6.46582075  2.97002588  0.88499788]\n",
            " [ 3.13262896  9.02626365 12.36508544  3.81285321  3.2340574   1.99695202\n",
            "   5.51369008  5.63108426  0.92393211  4.34246807]\n",
            " [12.12841713  7.41853025  6.0688014   5.40422779  8.38683883  7.40185475\n",
            "   3.87974362  9.69775049  1.17399934  0.18608897]\n",
            " [ 2.33832852  7.34240093 11.2523559   2.02948621  1.6024283   2.37157144\n",
            "   5.90706493  3.91859824  0.72634803  2.89254265]\n",
            " [10.02520865 11.85258069 11.24974486  8.68365698  9.79741533  4.19252229\n",
            "   0.71440868 11.7551304   3.39621962  5.19622986]\n",
            " [10.0288584   3.26669997  3.40089344  0.95940764  4.26673559  6.33705262\n",
            "   2.7685157   5.39287471  5.23547239  3.34883731]\n",
            " [ 1.51746433  5.26166171  9.79116256  0.11995685  0.30324399  2.67380019\n",
            "   6.23226323  1.89639504  2.77419093  1.05522432]]\n"
          ]
        }
      ],
      "source": [
        "P0 = np.random.uniform(-10, 10, (10,2))\n",
        "P1 = np.random.uniform(-10,10,(10,2))\n",
        "p = np.random.uniform(-10, 10, (10,2))\n",
        "print(np.array([distance(P0,P1,p_i) for p_i in p]))"
      ]
    },
    {
      "cell_type": "markdown",
      "metadata": {
        "id": "Ee7LIzAX28A_"
      },
      "source": [
        "#### 80. Consider an arbitrary array, write a function that extract a subpart with a fixed shape and centered on a given element (pad with a `fill` value when necessary) (★★★) \n",
        "(**hint**: minimum, maximum)"
      ]
    },
    {
      "cell_type": "code",
      "execution_count": null,
      "metadata": {
        "id": "k9Eh_loL28A_",
        "colab": {
          "base_uri": "https://localhost:8080/"
        },
        "outputId": "cc780b47-6248-4904-e6c6-54c451169240"
      },
      "outputs": [
        {
          "output_type": "stream",
          "name": "stdout",
          "text": [
            "[[3 8 1 1 2 0 4 1 6 2]\n",
            " [5 6 8 4 5 3 9 4 6 7]\n",
            " [7 0 7 4 1 7 2 9 1 2]\n",
            " [9 9 6 0 5 2 1 4 7 8]\n",
            " [9 4 0 7 4 6 9 7 2 3]\n",
            " [4 9 1 9 6 7 9 5 0 5]\n",
            " [0 2 8 6 6 3 7 6 2 0]\n",
            " [9 3 8 6 0 6 2 2 8 6]\n",
            " [5 0 6 8 0 2 2 5 7 2]\n",
            " [7 8 3 2 4 1 8 5 4 0]]\n",
            "[[0 0 0 0 0]\n",
            " [0 3 8 1 1]\n",
            " [0 5 6 8 4]\n",
            " [0 7 0 7 4]\n",
            " [0 9 9 6 0]]\n"
          ]
        },
        {
          "output_type": "stream",
          "name": "stderr",
          "text": [
            "/usr/local/lib/python3.7/dist-packages/ipykernel_launcher.py:23: FutureWarning: Using a non-tuple sequence for multidimensional indexing is deprecated; use `arr[tuple(seq)]` instead of `arr[seq]`. In the future this will be interpreted as an array index, `arr[np.array(seq)]`, which will result either in an error or a different result.\n"
          ]
        }
      ],
      "source": [
        "Z = np.random.randint(0,10,(10,10))\n",
        "shape = (5,5)\n",
        "fill  = 0\n",
        "position = (1,1)\n",
        "\n",
        "R = np.ones(shape, dtype=Z.dtype)*fill\n",
        "P  = np.array(list(position)).astype(int)\n",
        "Rs = np.array(list(R.shape)).astype(int)\n",
        "Zs = np.array(list(Z.shape)).astype(int)\n",
        "\n",
        "R_start = np.zeros((len(shape),)).astype(int)\n",
        "R_stop  = np.array(list(shape)).astype(int)\n",
        "Z_start = (P-Rs//2)\n",
        "Z_stop  = (P+Rs//2)+Rs%2\n",
        "\n",
        "R_start = (R_start - np.minimum(Z_start,0)).tolist()\n",
        "Z_start = (np.maximum(Z_start,0)).tolist()\n",
        "R_stop = np.maximum(R_start, (R_stop - np.maximum(Z_stop-Zs,0))).tolist()\n",
        "Z_stop = (np.minimum(Z_stop,Zs)).tolist()\n",
        "\n",
        "r = [slice(start,stop) for start,stop in zip(R_start,R_stop)]\n",
        "z = [slice(start,stop) for start,stop in zip(Z_start,Z_stop)]\n",
        "R[r] = Z[z]\n",
        "print(Z)\n",
        "print(R)"
      ]
    },
    {
      "cell_type": "markdown",
      "metadata": {
        "id": "kWrlrfUD28A_"
      },
      "source": [
        "#### 81. Consider an array Z = \\[1,2,3,4,5,6,7,8,9,10,11,12,13,14\\], how to generate an array R = \\[\\[1,2,3,4\\], \\[2,3,4,5\\], \\[3,4,5,6\\], ..., \\[11,12,13,14\\]\\]? (★★★) \n",
        "(**hint**: stride\\_tricks.as\\_strided)"
      ]
    },
    {
      "cell_type": "code",
      "execution_count": null,
      "metadata": {
        "id": "9DqFQWRG28BA",
        "colab": {
          "base_uri": "https://localhost:8080/"
        },
        "outputId": "3ed310cc-4a3c-4994-b3a4-c6b99de371e3"
      },
      "outputs": [
        {
          "output_type": "stream",
          "name": "stdout",
          "text": [
            "[[ 1  2  3  4]\n",
            " [ 2  3  4  5]\n",
            " [ 3  4  5  6]\n",
            " [ 4  5  6  7]\n",
            " [ 5  6  7  8]\n",
            " [ 6  7  8  9]\n",
            " [ 7  8  9 10]\n",
            " [ 8  9 10 11]\n",
            " [ 9 10 11 12]\n",
            " [10 11 12 13]\n",
            " [11 12 13 14]]\n"
          ]
        }
      ],
      "source": [
        "Z = np.arange(1,15,dtype=np.uint32)\n",
        "R = stride_tricks.as_strided(Z,(11,4),(4,4))\n",
        "print(R)"
      ]
    },
    {
      "cell_type": "markdown",
      "metadata": {
        "id": "vF0GB6kZ28BA"
      },
      "source": [
        "#### 82. Compute a matrix rank (★★★) \n",
        "(**hint**: np.linalg.svd) (suggestion: np.linalg.svd)"
      ]
    },
    {
      "cell_type": "code",
      "execution_count": null,
      "metadata": {
        "id": "NdHxRR9n28BA",
        "colab": {
          "base_uri": "https://localhost:8080/"
        },
        "outputId": "a4e1f50e-8593-448a-dcad-08c8bec942ec"
      },
      "outputs": [
        {
          "output_type": "stream",
          "name": "stdout",
          "text": [
            "10\n"
          ]
        }
      ],
      "source": [
        "Z = np.random.uniform(0,1,(10,10))\n",
        "U, S, V = np.linalg.svd(Z) # Singular Value Decomposition\n",
        "rank = np.sum(S > 1e-10)\n",
        "print(rank)"
      ]
    },
    {
      "cell_type": "markdown",
      "metadata": {
        "id": "mj34XWd728BB"
      },
      "source": [
        "#### 83. How to find the most frequent value in an array? \n",
        "(**hint**: np.bincount, argmax)"
      ]
    },
    {
      "cell_type": "code",
      "execution_count": null,
      "metadata": {
        "id": "BpW5qFSu28BB",
        "colab": {
          "base_uri": "https://localhost:8080/"
        },
        "outputId": "3ec9a9df-12ce-4df2-e771-9c15a0fc115f"
      },
      "outputs": [
        {
          "output_type": "stream",
          "name": "stdout",
          "text": [
            "0\n"
          ]
        }
      ],
      "source": [
        "Z = np.random.randint(0,10,50)\n",
        "print(np.bincount(Z).argmax())"
      ]
    },
    {
      "cell_type": "markdown",
      "metadata": {
        "id": "jHwEDj7q28BB"
      },
      "source": [
        "#### 84. Extract all the contiguous 3x3 blocks from a random 10x10 matrix (★★★) \n",
        "(**hint**: stride\\_tricks.as\\_strided)"
      ]
    },
    {
      "cell_type": "code",
      "execution_count": null,
      "metadata": {
        "id": "AdN9PJGk28BB",
        "colab": {
          "base_uri": "https://localhost:8080/"
        },
        "outputId": "f6dcc410-6cc8-49cb-c6cd-c8db484c2094"
      },
      "outputs": [
        {
          "output_type": "stream",
          "name": "stdout",
          "text": [
            "[[[[4 2 0]\n",
            "   [2 4 0]\n",
            "   [0 2 3]]\n",
            "\n",
            "  [[2 0 3]\n",
            "   [4 0 0]\n",
            "   [2 3 0]]\n",
            "\n",
            "  [[0 3 4]\n",
            "   [0 0 0]\n",
            "   [3 0 4]]\n",
            "\n",
            "  [[3 4 1]\n",
            "   [0 0 3]\n",
            "   [0 4 4]]\n",
            "\n",
            "  [[4 1 0]\n",
            "   [0 3 4]\n",
            "   [4 4 2]]\n",
            "\n",
            "  [[1 0 4]\n",
            "   [3 4 4]\n",
            "   [4 2 2]]\n",
            "\n",
            "  [[0 4 4]\n",
            "   [4 4 3]\n",
            "   [2 2 0]]\n",
            "\n",
            "  [[4 4 2]\n",
            "   [4 3 2]\n",
            "   [2 0 1]]]\n",
            "\n",
            "\n",
            " [[[2 4 0]\n",
            "   [0 2 3]\n",
            "   [3 4 3]]\n",
            "\n",
            "  [[4 0 0]\n",
            "   [2 3 0]\n",
            "   [4 3 3]]\n",
            "\n",
            "  [[0 0 0]\n",
            "   [3 0 4]\n",
            "   [3 3 3]]\n",
            "\n",
            "  [[0 0 3]\n",
            "   [0 4 4]\n",
            "   [3 3 2]]\n",
            "\n",
            "  [[0 3 4]\n",
            "   [4 4 2]\n",
            "   [3 2 3]]\n",
            "\n",
            "  [[3 4 4]\n",
            "   [4 2 2]\n",
            "   [2 3 3]]\n",
            "\n",
            "  [[4 4 3]\n",
            "   [2 2 0]\n",
            "   [3 3 3]]\n",
            "\n",
            "  [[4 3 2]\n",
            "   [2 0 1]\n",
            "   [3 3 4]]]\n",
            "\n",
            "\n",
            " [[[0 2 3]\n",
            "   [3 4 3]\n",
            "   [0 1 3]]\n",
            "\n",
            "  [[2 3 0]\n",
            "   [4 3 3]\n",
            "   [1 3 1]]\n",
            "\n",
            "  [[3 0 4]\n",
            "   [3 3 3]\n",
            "   [3 1 0]]\n",
            "\n",
            "  [[0 4 4]\n",
            "   [3 3 2]\n",
            "   [1 0 4]]\n",
            "\n",
            "  [[4 4 2]\n",
            "   [3 2 3]\n",
            "   [0 4 1]]\n",
            "\n",
            "  [[4 2 2]\n",
            "   [2 3 3]\n",
            "   [4 1 1]]\n",
            "\n",
            "  [[2 2 0]\n",
            "   [3 3 3]\n",
            "   [1 1 3]]\n",
            "\n",
            "  [[2 0 1]\n",
            "   [3 3 4]\n",
            "   [1 3 1]]]\n",
            "\n",
            "\n",
            " [[[3 4 3]\n",
            "   [0 1 3]\n",
            "   [1 1 3]]\n",
            "\n",
            "  [[4 3 3]\n",
            "   [1 3 1]\n",
            "   [1 3 3]]\n",
            "\n",
            "  [[3 3 3]\n",
            "   [3 1 0]\n",
            "   [3 3 0]]\n",
            "\n",
            "  [[3 3 2]\n",
            "   [1 0 4]\n",
            "   [3 0 1]]\n",
            "\n",
            "  [[3 2 3]\n",
            "   [0 4 1]\n",
            "   [0 1 3]]\n",
            "\n",
            "  [[2 3 3]\n",
            "   [4 1 1]\n",
            "   [1 3 0]]\n",
            "\n",
            "  [[3 3 3]\n",
            "   [1 1 3]\n",
            "   [3 0 0]]\n",
            "\n",
            "  [[3 3 4]\n",
            "   [1 3 1]\n",
            "   [0 0 3]]]\n",
            "\n",
            "\n",
            " [[[0 1 3]\n",
            "   [1 1 3]\n",
            "   [0 1 1]]\n",
            "\n",
            "  [[1 3 1]\n",
            "   [1 3 3]\n",
            "   [1 1 1]]\n",
            "\n",
            "  [[3 1 0]\n",
            "   [3 3 0]\n",
            "   [1 1 1]]\n",
            "\n",
            "  [[1 0 4]\n",
            "   [3 0 1]\n",
            "   [1 1 4]]\n",
            "\n",
            "  [[0 4 1]\n",
            "   [0 1 3]\n",
            "   [1 4 4]]\n",
            "\n",
            "  [[4 1 1]\n",
            "   [1 3 0]\n",
            "   [4 4 2]]\n",
            "\n",
            "  [[1 1 3]\n",
            "   [3 0 0]\n",
            "   [4 2 2]]\n",
            "\n",
            "  [[1 3 1]\n",
            "   [0 0 3]\n",
            "   [2 2 0]]]\n",
            "\n",
            "\n",
            " [[[1 1 3]\n",
            "   [0 1 1]\n",
            "   [4 3 1]]\n",
            "\n",
            "  [[1 3 3]\n",
            "   [1 1 1]\n",
            "   [3 1 3]]\n",
            "\n",
            "  [[3 3 0]\n",
            "   [1 1 1]\n",
            "   [1 3 4]]\n",
            "\n",
            "  [[3 0 1]\n",
            "   [1 1 4]\n",
            "   [3 4 0]]\n",
            "\n",
            "  [[0 1 3]\n",
            "   [1 4 4]\n",
            "   [4 0 4]]\n",
            "\n",
            "  [[1 3 0]\n",
            "   [4 4 2]\n",
            "   [0 4 2]]\n",
            "\n",
            "  [[3 0 0]\n",
            "   [4 2 2]\n",
            "   [4 2 1]]\n",
            "\n",
            "  [[0 0 3]\n",
            "   [2 2 0]\n",
            "   [2 1 2]]]\n",
            "\n",
            "\n",
            " [[[0 1 1]\n",
            "   [4 3 1]\n",
            "   [1 4 1]]\n",
            "\n",
            "  [[1 1 1]\n",
            "   [3 1 3]\n",
            "   [4 1 4]]\n",
            "\n",
            "  [[1 1 1]\n",
            "   [1 3 4]\n",
            "   [1 4 2]]\n",
            "\n",
            "  [[1 1 4]\n",
            "   [3 4 0]\n",
            "   [4 2 4]]\n",
            "\n",
            "  [[1 4 4]\n",
            "   [4 0 4]\n",
            "   [2 4 4]]\n",
            "\n",
            "  [[4 4 2]\n",
            "   [0 4 2]\n",
            "   [4 4 1]]\n",
            "\n",
            "  [[4 2 2]\n",
            "   [4 2 1]\n",
            "   [4 1 2]]\n",
            "\n",
            "  [[2 2 0]\n",
            "   [2 1 2]\n",
            "   [1 2 2]]]\n",
            "\n",
            "\n",
            " [[[4 3 1]\n",
            "   [1 4 1]\n",
            "   [4 1 4]]\n",
            "\n",
            "  [[3 1 3]\n",
            "   [4 1 4]\n",
            "   [1 4 0]]\n",
            "\n",
            "  [[1 3 4]\n",
            "   [1 4 2]\n",
            "   [4 0 3]]\n",
            "\n",
            "  [[3 4 0]\n",
            "   [4 2 4]\n",
            "   [0 3 4]]\n",
            "\n",
            "  [[4 0 4]\n",
            "   [2 4 4]\n",
            "   [3 4 0]]\n",
            "\n",
            "  [[0 4 2]\n",
            "   [4 4 1]\n",
            "   [4 0 2]]\n",
            "\n",
            "  [[4 2 1]\n",
            "   [4 1 2]\n",
            "   [0 2 4]]\n",
            "\n",
            "  [[2 1 2]\n",
            "   [1 2 2]\n",
            "   [2 4 1]]]]\n"
          ]
        }
      ],
      "source": [
        "Z = np.random.randint(0,5,(10,10))\n",
        "n = 3\n",
        "i = 1 + (Z.shape[0]-3)\n",
        "j = 1 + (Z.shape[1]-3)\n",
        "C = stride_tricks.as_strided(Z, shape=(i, j, n, n), strides=Z.strides + Z.strides)\n",
        "print(C)"
      ]
    },
    {
      "cell_type": "markdown",
      "metadata": {
        "id": "YCb5Y4w528BB"
      },
      "source": [
        "#### 85. Create a 2D array subclass such that Z\\[i,j\\] == Z\\[j,i\\] (★★★) \n",
        "(**hint**: class method)"
      ]
    },
    {
      "cell_type": "code",
      "execution_count": null,
      "metadata": {
        "id": "lchqHagA28BB",
        "colab": {
          "base_uri": "https://localhost:8080/"
        },
        "outputId": "2fd86e5a-23c7-4dbc-99f7-2012f5566c09"
      },
      "outputs": [
        {
          "output_type": "stream",
          "name": "stdout",
          "text": [
            "[[ 5  8 11  7 15]\n",
            " [ 8  5 15  2 12]\n",
            " [11 15  7 42  3]\n",
            " [ 7  2 42  6  7]\n",
            " [15 12  3  7  1]]\n"
          ]
        }
      ],
      "source": [
        "class Symetric(np.ndarray):\n",
        "    def __setitem__(self, index, value):\n",
        "        i,j = index\n",
        "        super(Symetric, self).__setitem__((i,j), value)\n",
        "        super(Symetric, self).__setitem__((j,i), value)\n",
        "\n",
        "def symetric(Z):\n",
        "    return np.asarray(Z + Z.T - np.diag(Z.diagonal())).view(Symetric)\n",
        "\n",
        "S = symetric(np.random.randint(0,10,(5,5)))\n",
        "S[2,3] = 42\n",
        "print(S)"
      ]
    },
    {
      "cell_type": "markdown",
      "metadata": {
        "id": "vnOzE2IL28BB"
      },
      "source": [
        "#### 86. Consider a set of p matrices wich shape (n,n) and a set of p vectors with shape (n,1). How to compute the sum of of the p matrix products at once? (result has shape (n,1)) (★★★) \n",
        "(**hint**: np.tensordot)"
      ]
    },
    {
      "cell_type": "code",
      "execution_count": null,
      "metadata": {
        "id": "t2ClZ6LK28BC",
        "colab": {
          "base_uri": "https://localhost:8080/"
        },
        "outputId": "8960eacb-f4e7-42f1-b468-e85b77efa270"
      },
      "outputs": [
        {
          "output_type": "stream",
          "name": "stdout",
          "text": [
            "[[200.]\n",
            " [200.]\n",
            " [200.]\n",
            " [200.]\n",
            " [200.]\n",
            " [200.]\n",
            " [200.]\n",
            " [200.]\n",
            " [200.]\n",
            " [200.]\n",
            " [200.]\n",
            " [200.]\n",
            " [200.]\n",
            " [200.]\n",
            " [200.]\n",
            " [200.]\n",
            " [200.]\n",
            " [200.]\n",
            " [200.]\n",
            " [200.]]\n"
          ]
        }
      ],
      "source": [
        "p, n = 10, 20\n",
        "M = np.ones((p,n,n))\n",
        "V = np.ones((p,n,1))\n",
        "S = np.tensordot(M, V, axes=[[0, 2], [0, 1]])\n",
        "print(S)"
      ]
    },
    {
      "cell_type": "markdown",
      "metadata": {
        "id": "i-2_Yeep28BC"
      },
      "source": [
        "#### 87. Consider a 16x16 array, how to get the block-sum (block size is 4x4)? (★★★) \n",
        "(**hint**: np.add.reduceat)"
      ]
    },
    {
      "cell_type": "code",
      "execution_count": null,
      "metadata": {
        "id": "Pfv-RlNv28BC",
        "colab": {
          "base_uri": "https://localhost:8080/"
        },
        "outputId": "cdd2e696-cc8e-4433-9026-c2b2fbd9cf89"
      },
      "outputs": [
        {
          "output_type": "stream",
          "name": "stdout",
          "text": [
            "[[16. 16. 16. 16.]\n",
            " [16. 16. 16. 16.]\n",
            " [16. 16. 16. 16.]\n",
            " [16. 16. 16. 16.]]\n"
          ]
        }
      ],
      "source": [
        "Z = np.ones((16,16))\n",
        "k = 4\n",
        "S = np.add.reduceat(np.add.reduceat(Z, np.arange(0, Z.shape[0], k), axis=0),\n",
        "                                       np.arange(0, Z.shape[1], k), axis=1)\n",
        "print(S)"
      ]
    },
    {
      "cell_type": "markdown",
      "metadata": {
        "id": "xQtxND0j28BC"
      },
      "source": [
        "#### 88. How to implement the Game of Life using numpy arrays? (★★★)"
      ]
    },
    {
      "cell_type": "code",
      "execution_count": null,
      "metadata": {
        "id": "bGDSBdV928BC",
        "colab": {
          "base_uri": "https://localhost:8080/"
        },
        "outputId": "cf1ee062-d2b5-4903-ddb7-4304ed4adc3a"
      },
      "outputs": [
        {
          "output_type": "stream",
          "name": "stdout",
          "text": [
            "[[0 0 0 ... 0 0 0]\n",
            " [0 0 0 ... 0 0 0]\n",
            " [0 0 0 ... 0 0 0]\n",
            " ...\n",
            " [0 0 0 ... 0 0 0]\n",
            " [0 0 0 ... 0 0 0]\n",
            " [0 0 0 ... 0 0 0]]\n"
          ]
        }
      ],
      "source": [
        "def iterate(Z):\n",
        "    N = (Z[0:-2,0:-2] + Z[0:-2,1:-1] + Z[0:-2,2:] +\n",
        "         Z[1:-1,0:-2]                + Z[1:-1,2:] +\n",
        "         Z[2:  ,0:-2] + Z[2:  ,1:-1] + Z[2:  ,2:])\n",
        "\n",
        "    birth = (N==3) & (Z[1:-1,1:-1]==0)\n",
        "    survive = ((N==2) | (N==3)) & (Z[1:-1,1:-1]==1)\n",
        "    Z[...] = 0\n",
        "    Z[1:-1,1:-1][birth | survive] = 1\n",
        "    return Z\n",
        "\n",
        "Z = np.random.randint(0,2,(50,50))\n",
        "for i in range(100): Z = iterate(Z)\n",
        "print(Z)"
      ]
    },
    {
      "cell_type": "markdown",
      "metadata": {
        "id": "7vCIq79v28BD"
      },
      "source": [
        "#### 89. How to get the n largest values of an array (★★★) \n",
        "(**hint**: np.argsort | np.argpartition)"
      ]
    },
    {
      "cell_type": "code",
      "execution_count": null,
      "metadata": {
        "id": "ZEEs1xtk28BD",
        "colab": {
          "base_uri": "https://localhost:8080/"
        },
        "outputId": "017ce02a-4140-4415-9875-5666beef35a9"
      },
      "outputs": [
        {
          "output_type": "stream",
          "name": "stdout",
          "text": [
            "[9997 9996 9999 9998 9995]\n"
          ]
        }
      ],
      "source": [
        "Z = np.arange(10000)\n",
        "np.random.shuffle(Z)\n",
        "n = 5\n",
        "print (Z[np.argpartition(-Z,n)[:n]])"
      ]
    },
    {
      "cell_type": "markdown",
      "metadata": {
        "id": "YLhas6aa28BD"
      },
      "source": [
        "#### 90. Given an arbitrary number of vectors, build the cartesian product (every combinations of every item) (★★★) \n",
        "(**hint**: np.indices)"
      ]
    },
    {
      "cell_type": "code",
      "execution_count": null,
      "metadata": {
        "scrolled": true,
        "id": "ZT6O2rh-28BE",
        "colab": {
          "base_uri": "https://localhost:8080/"
        },
        "outputId": "7a8c0278-831b-4dc6-8148-d0f09b417086"
      },
      "outputs": [
        {
          "output_type": "stream",
          "name": "stdout",
          "text": [
            "[[1 4 6]\n",
            " [1 4 7]\n",
            " [1 5 6]\n",
            " [1 5 7]\n",
            " [2 4 6]\n",
            " [2 4 7]\n",
            " [2 5 6]\n",
            " [2 5 7]\n",
            " [3 4 6]\n",
            " [3 4 7]\n",
            " [3 5 6]\n",
            " [3 5 7]]\n"
          ]
        }
      ],
      "source": [
        "def cartesian(arrays):\n",
        "    arrays = [np.asarray(a) for a in arrays]\n",
        "    shape = (len(x) for x in arrays)\n",
        "\n",
        "    ix = np.indices(shape, dtype=int)\n",
        "    ix = ix.reshape(len(arrays), -1).T\n",
        "\n",
        "    for n, arr in enumerate(arrays):\n",
        "        ix[:, n] = arrays[n][ix[:, n]]\n",
        "\n",
        "    return ix\n",
        "\n",
        "print (cartesian(([1, 2, 3], [4, 5], [6, 7])))"
      ]
    },
    {
      "cell_type": "markdown",
      "metadata": {
        "id": "IGc_jEYV28BE"
      },
      "source": [
        "#### 91. How to create a record array from a regular array? (★★★) \n",
        "(**hint**: np.core.records.fromarrays)"
      ]
    },
    {
      "cell_type": "code",
      "execution_count": null,
      "metadata": {
        "id": "qnARTPBf28BE",
        "colab": {
          "base_uri": "https://localhost:8080/"
        },
        "outputId": "bbd76b7c-89dd-4309-c8f1-67f91b1fa9a2"
      },
      "outputs": [
        {
          "output_type": "stream",
          "name": "stdout",
          "text": [
            "[(b'Hello', 2.5, 3) (b'World', 3.6, 2)]\n"
          ]
        }
      ],
      "source": [
        "Z = np.array([(\"Hello\", 2.5, 3),\n",
        "              (\"World\", 3.6, 2)])\n",
        "R = np.core.records.fromarrays(Z.T,\n",
        "                               names='col1, col2, col3',\n",
        "                               formats = 'S8, f8, i8')\n",
        "print(R)"
      ]
    },
    {
      "cell_type": "markdown",
      "metadata": {
        "id": "U3xmpWtM28BE"
      },
      "source": [
        "#### 92. Consider a large vector Z, compute Z to the power of 3 using 3 different methods (★★★) \n",
        "(**hint**: np.power, \\*, np.einsum)"
      ]
    },
    {
      "cell_type": "code",
      "execution_count": null,
      "metadata": {
        "id": "ELHGqJTQ28BF",
        "colab": {
          "base_uri": "https://localhost:8080/"
        },
        "outputId": "9533a618-278d-49b4-a14d-622111d9f1d8"
      },
      "outputs": [
        {
          "output_type": "execute_result",
          "data": {
            "text/plain": [
              "array([2.82484840e-01, 7.71962175e-01, 9.53305052e-02, ...,\n",
              "       2.19742375e-01, 3.45008786e-04, 9.58647252e-01])"
            ]
          },
          "metadata": {},
          "execution_count": 51
        }
      ],
      "source": [
        "x = np.random.rand(int(5e7))\n",
        "\n",
        "np.power(x,3)\n",
        "x*x*x\n",
        "np.einsum('i,i,i->i',x,x,x)"
      ]
    },
    {
      "cell_type": "markdown",
      "metadata": {
        "id": "T7xNssd528BF"
      },
      "source": [
        "#### 93. Consider two arrays A and B of shape (8,3) and (2,2). How to find rows of A that contain elements of each row of B regardless of the order of the elements in B? (★★★) \n",
        "(**hint**: np.where)"
      ]
    },
    {
      "cell_type": "code",
      "execution_count": null,
      "metadata": {
        "id": "jLsafPcA28BF",
        "colab": {
          "base_uri": "https://localhost:8080/"
        },
        "outputId": "71f33194-bb05-4207-bc53-469c374ed75a"
      },
      "outputs": [
        {
          "output_type": "stream",
          "name": "stdout",
          "text": [
            "[0 1 5 6]\n"
          ]
        }
      ],
      "source": [
        "A = np.random.randint(0,5,(8,3))\n",
        "B = np.random.randint(0,5,(2,2))\n",
        "\n",
        "C = (A[..., np.newaxis, np.newaxis] == B)\n",
        "rows = np.where(C.any((3,1)).all(1))[0]\n",
        "print(rows)"
      ]
    },
    {
      "cell_type": "markdown",
      "metadata": {
        "id": "Bi_pRZnk28BF"
      },
      "source": [
        "#### 94. Considering a 10x3 matrix, extract rows with unequal values (e.g. \\[2,2,3\\]) (★★★)"
      ]
    },
    {
      "cell_type": "code",
      "execution_count": null,
      "metadata": {
        "id": "4oxC1Aub28BF",
        "colab": {
          "base_uri": "https://localhost:8080/"
        },
        "outputId": "9ebf488f-e6ad-45fa-f083-9ab4279a3893"
      },
      "outputs": [
        {
          "output_type": "stream",
          "name": "stdout",
          "text": [
            "[[3 0 2]\n",
            " [4 4 3]\n",
            " [0 4 2]\n",
            " [1 2 1]\n",
            " [2 1 1]\n",
            " [2 0 1]\n",
            " [2 0 2]\n",
            " [4 4 0]\n",
            " [0 4 4]\n",
            " [4 0 2]]\n",
            "[[3 0 2]\n",
            " [4 4 3]\n",
            " [0 4 2]\n",
            " [1 2 1]\n",
            " [2 1 1]\n",
            " [2 0 1]\n",
            " [2 0 2]\n",
            " [4 4 0]\n",
            " [0 4 4]\n",
            " [4 0 2]]\n",
            "[[3 0 2]\n",
            " [4 4 3]\n",
            " [0 4 2]\n",
            " [1 2 1]\n",
            " [2 1 1]\n",
            " [2 0 1]\n",
            " [2 0 2]\n",
            " [4 4 0]\n",
            " [0 4 4]\n",
            " [4 0 2]]\n"
          ]
        }
      ],
      "source": [
        "Z = np.random.randint(0,5,(10,3))\n",
        "print(Z)\n",
        "# solution for arrays of all dtypes (including string arrays and record arrays)\n",
        "E = np.all(Z[:,1:] == Z[:,:-1], axis=1)\n",
        "U = Z[~E]\n",
        "print(U)\n",
        "# soluiton for numerical arrays only, will work for any number of columns in Z\n",
        "U = Z[Z.max(axis=1) != Z.min(axis=1),:]\n",
        "print(U)"
      ]
    },
    {
      "cell_type": "markdown",
      "metadata": {
        "id": "jv3M_6-_28BF"
      },
      "source": [
        "#### 95. Convert a vector of ints into a matrix binary representation (★★★) \n",
        "(**hint**: np.unpackbits)"
      ]
    },
    {
      "cell_type": "code",
      "execution_count": null,
      "metadata": {
        "id": "Z1BNQ8LP28BF",
        "colab": {
          "base_uri": "https://localhost:8080/"
        },
        "outputId": "8fe1edd6-4cad-4086-e0c4-a1d121c17c65"
      },
      "outputs": [
        {
          "output_type": "stream",
          "name": "stdout",
          "text": [
            "[[0 0 0 0 0 0 0 0]\n",
            " [0 0 0 0 0 0 0 1]\n",
            " [0 0 0 0 0 0 1 0]\n",
            " [0 0 0 0 0 0 1 1]\n",
            " [0 0 0 0 1 1 1 1]\n",
            " [0 0 0 1 0 0 0 0]\n",
            " [0 0 1 0 0 0 0 0]\n",
            " [0 1 0 0 0 0 0 0]\n",
            " [1 0 0 0 0 0 0 0]]\n"
          ]
        }
      ],
      "source": [
        "I = np.array([0, 1, 2, 3, 15, 16, 32, 64, 128])\n",
        "B = ((I.reshape(-1,1) & (2**np.arange(8))) != 0).astype(int)\n",
        "print(B[:,::-1])"
      ]
    },
    {
      "cell_type": "markdown",
      "metadata": {
        "id": "AIsfTEzb28BF"
      },
      "source": [
        "#### 96. Given a two dimensional array, how to extract unique rows? (★★★) \n",
        "(**hint**: np.ascontiguousarray)"
      ]
    },
    {
      "cell_type": "code",
      "execution_count": null,
      "metadata": {
        "id": "-x5m_0B128BG",
        "colab": {
          "base_uri": "https://localhost:8080/"
        },
        "outputId": "0f76310b-eea9-484f-cd31-86d326b33bdd"
      },
      "outputs": [
        {
          "output_type": "stream",
          "name": "stdout",
          "text": [
            "[[0 1 0]\n",
            " [1 0 1]\n",
            " [1 1 0]]\n"
          ]
        }
      ],
      "source": [
        "Z = np.random.randint(0,2,(6,3))\n",
        "T = np.ascontiguousarray(Z).view(np.dtype((np.void, Z.dtype.itemsize * Z.shape[1])))\n",
        "_, idx = np.unique(T, return_index=True)\n",
        "uZ = Z[idx]\n",
        "print(uZ)"
      ]
    },
    {
      "cell_type": "markdown",
      "metadata": {
        "id": "Gr0n4cRT28BG"
      },
      "source": [
        "#### 97. Considering 2 vectors A & B, write the einsum equivalent of inner, outer, sum, and mul function (★★★) \n",
        "(**hint**: np.einsum)"
      ]
    },
    {
      "cell_type": "code",
      "execution_count": null,
      "metadata": {
        "id": "YZ4SW5DL28BG",
        "colab": {
          "base_uri": "https://localhost:8080/"
        },
        "outputId": "77b141cb-7647-4e6f-e7cb-d1581dba47af"
      },
      "outputs": [
        {
          "output_type": "execute_result",
          "data": {
            "text/plain": [
              "array([[7.43578010e-01, 3.80714215e-01, 3.36228650e-02, 3.51845465e-01,\n",
              "        2.20745155e-01, 8.63319904e-02, 7.09967802e-01, 5.01241412e-01,\n",
              "        8.52706418e-01, 3.30487942e-01],\n",
              "       [7.69120752e-01, 3.93792176e-01, 3.47778482e-02, 3.63931752e-01,\n",
              "        2.28327999e-01, 8.92975914e-02, 7.34355994e-01, 5.18459618e-01,\n",
              "        8.81997842e-01, 3.41840574e-01],\n",
              "       [8.48962946e-01, 4.34671624e-01, 3.83881262e-02, 4.01711398e-01,\n",
              "        2.52030660e-01, 9.85675476e-02, 8.10589270e-01, 5.72280756e-01,\n",
              "        9.73557774e-01, 3.77326942e-01],\n",
              "       [3.40918265e-01, 1.74551194e-01, 1.54155296e-02, 1.61315348e-01,\n",
              "        1.01208016e-01, 3.95817951e-02, 3.25508539e-01, 2.29810928e-01,\n",
              "        3.90951842e-01, 1.51523276e-01],\n",
              "       [7.93320402e-01, 4.06182471e-01, 3.58721000e-02, 3.75382517e-01,\n",
              "        2.35512122e-01, 9.21072549e-02, 7.57461805e-01, 5.34772455e-01,\n",
              "        9.09749063e-01, 3.52596262e-01],\n",
              "       [2.02049472e-02, 1.03449948e-02, 9.13620634e-04, 9.56055579e-03,\n",
              "        5.99821961e-03, 2.34586457e-03, 1.92916705e-02, 1.36200320e-02,\n",
              "        2.31702497e-02, 8.98021638e-03],\n",
              "       [7.57087384e-01, 3.87631055e-01, 3.42337274e-02, 3.58237816e-01,\n",
              "        2.24755667e-01, 8.79004756e-02, 7.22866543e-01, 5.10347998e-01,\n",
              "        8.68198443e-01, 3.36492268e-01],\n",
              "       [5.79044834e-01, 2.96472725e-01, 2.61830581e-02, 2.73991828e-01,\n",
              "        1.71900379e-01, 6.72291170e-02, 5.52871632e-01, 3.90330599e-01,\n",
              "        6.64026153e-01, 2.57360133e-01],\n",
              "       [4.48855623e-01, 2.29815451e-01, 2.02962054e-02, 2.12389034e-01,\n",
              "        1.33251256e-01, 5.21136973e-02, 4.28567058e-01, 3.02570844e-01,\n",
              "        5.14730217e-01, 1.99496716e-01],\n",
              "       [8.23071589e-01, 4.21415170e-01, 3.72173794e-02, 3.89460153e-01,\n",
              "        2.44344323e-01, 9.55614710e-02, 7.85868219e-01, 5.54827549e-01,\n",
              "        9.43866569e-01, 3.65819365e-01]])"
            ]
          },
          "metadata": {},
          "execution_count": 56
        }
      ],
      "source": [
        "A = np.random.uniform(0,1,10)\n",
        "B = np.random.uniform(0,1,10)\n",
        "\n",
        "np.einsum('i->', A)      \n",
        "np.einsum('i,i->i', A, B) \n",
        "np.einsum('i,i', A, B)    \n",
        "np.einsum('i,j->ij', A, B)"
      ]
    },
    {
      "cell_type": "markdown",
      "metadata": {
        "id": "1DU5Y8o828BG"
      },
      "source": [
        "#### 98. Considering a path described by two vectors (X,Y), how to sample it using equidistant samples (★★★)? \n",
        "(**hint**: np.cumsum, np.interp)"
      ]
    },
    {
      "cell_type": "code",
      "execution_count": null,
      "metadata": {
        "collapsed": true,
        "id": "SEqLz7VT28BG"
      },
      "outputs": [],
      "source": [
        "phi = np.arange(0, 10*np.pi, 0.1)\n",
        "a = 1\n",
        "x = a*phi*np.cos(phi)\n",
        "y = a*phi*np.sin(phi)\n",
        "\n",
        "dr = (np.diff(x)**2 + np.diff(y)**2)**.5 \n",
        "r = np.zeros_like(x)\n",
        "r[1:] = np.cumsum(dr)                \n",
        "r_int = np.linspace(0, r.max(), 200) \n",
        "x_int = np.interp(r_int, r, x)       \n",
        "y_int = np.interp(r_int, r, y)"
      ]
    },
    {
      "cell_type": "markdown",
      "metadata": {
        "id": "aMSaD6VL28BG"
      },
      "source": [
        "#### 99. Given an integer n and a 2D array X, select from X the rows which can be interpreted as draws from a multinomial distribution with n degrees, i.e., the rows which only contain integers and which sum to n. (★★★) \n",
        "(**hint**: np.logical\\_and.reduce, np.mod)"
      ]
    },
    {
      "cell_type": "code",
      "execution_count": null,
      "metadata": {
        "id": "VQGZ3WZt28BG",
        "colab": {
          "base_uri": "https://localhost:8080/"
        },
        "outputId": "31dfe3ad-05b1-45a8-f0ff-1b1503e054c2"
      },
      "outputs": [
        {
          "output_type": "stream",
          "name": "stdout",
          "text": [
            "[[2. 0. 1. 1.]]\n"
          ]
        }
      ],
      "source": [
        "X = np.asarray([[1.0, 0.0, 3.0, 8.0],\n",
        "                [2.0, 0.0, 1.0, 1.0],\n",
        "                [1.5, 2.5, 1.0, 0.0]])\n",
        "n = 4\n",
        "M = np.logical_and.reduce(np.mod(X, 1) == 0, axis=-1)\n",
        "M &= (X.sum(axis=-1) == n)\n",
        "print(X[M])"
      ]
    },
    {
      "cell_type": "markdown",
      "metadata": {
        "id": "DktCSofE28BG"
      },
      "source": [
        "#### 100. Compute bootstrapped 95% confidence intervals for the mean of a 1D array X (i.e., resample the elements of an array with replacement N times, compute the mean of each sample, and then compute percentiles over the means). (★★★) \n",
        "(**hint**: np.percentile)"
      ]
    },
    {
      "cell_type": "code",
      "execution_count": null,
      "metadata": {
        "id": "_P-3qzqm28BH",
        "colab": {
          "base_uri": "https://localhost:8080/"
        },
        "outputId": "77c5a072-3c96-4e87-f35d-52772675bd32"
      },
      "outputs": [
        {
          "output_type": "stream",
          "name": "stdout",
          "text": [
            "[-0.23915821  0.13734409]\n"
          ]
        }
      ],
      "source": [
        "X = np.random.randn(100) # random 1D array\n",
        "N = 1000 # number of bootstrap samples\n",
        "idx = np.random.randint(0, X.size, (N, X.size))\n",
        "means = X[idx].mean(axis=1)\n",
        "confint = np.percentile(means, [2.5, 97.5])\n",
        "print(confint)"
      ]
    },
    {
      "cell_type": "code",
      "source": [
        ""
      ],
      "metadata": {
        "id": "tc363XQUIrUk"
      },
      "execution_count": null,
      "outputs": []
    }
  ],
  "metadata": {
    "kernelspec": {
      "display_name": "Python 3",
      "language": "python",
      "name": "python3"
    },
    "language_info": {
      "codemirror_mode": {
        "name": "ipython",
        "version": 3
      },
      "file_extension": ".py",
      "mimetype": "text/x-python",
      "name": "python",
      "nbconvert_exporter": "python",
      "pygments_lexer": "ipython3",
      "version": "3.8.3"
    },
    "colab": {
      "name": "Numpy_tasks.ipynb",
      "provenance": [],
      "collapsed_sections": [
        "aACbOSUT28Am",
        "V-DwYGbx28Am",
        "W6EWFKu028An",
        "mU8tb6kY28An",
        "6KYf11Kf28An",
        "Kze7UEXu28Ao",
        "LjUViS8128Ao",
        "-wVKv3Sx28Ao",
        "3hEL3kml28Ap",
        "KqPU91k828Ap",
        "zlhmSy6r28Aq",
        "kQF2mwF428Ar",
        "Zsq3iUs228Ar",
        "sLSBMLZN28As",
        "10Sw_Zgh28As",
        "Ik7ScUlg28As",
        "6PyDnjCX28At",
        "yY2eAf7H28At",
        "OXTHAvQz28At",
        "jVGmC-1t28Au",
        "OjKIWTQs28Au",
        "ZgU5UMdZ28Av",
        "zPEDNuCu28Av",
        "kJzXBVm928Av",
        "V0POxkuE28Aw",
        "YvP0vHB428Aw",
        "P0oRge7r28Aw",
        "fpNelJZk28Ax",
        "BDvlamMF28Ax",
        "2HrdgjfW28Ax",
        "tS4g-cro28Ax",
        "7EAo7OuM28Ay",
        "GR5vJCdx28Ay",
        "yNtPAKF628Ay",
        "gY3AWLz028Az",
        "wvPUrTB628Az",
        "1j3XfWia28Az",
        "oCcOXrEN28Az",
        "OjpQQ8iC28A0",
        "YQdbCYpr28A0"
      ]
    }
  },
  "nbformat": 4,
  "nbformat_minor": 0
}